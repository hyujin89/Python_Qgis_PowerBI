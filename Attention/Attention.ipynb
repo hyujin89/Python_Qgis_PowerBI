{
 "cells": [
  {
   "cell_type": "markdown",
   "metadata": {
    "executionInfo": {
     "elapsed": 17189,
     "status": "ok",
     "timestamp": 1738323346196,
     "user": {
      "displayName": "chioh song",
      "userId": "05482793768581925652"
     },
     "user_tz": -540
    },
    "id": "eej-wb9pN3tY"
   },
   "source": [
    "# Attention\n",
    "**\"프리트레인드 모델\" (Pretrained model)**은 이미 대규모 데이터셋을 사용하여 사전 학습된 모델을 의미. 즉, 이 모델은 특정 작업을 수행하기 전에 일반적인 언어나 데이터를 학습한 상태"
   ]
  },
  {
   "cell_type": "code",
   "execution_count": 44,
   "metadata": {},
   "outputs": [],
   "source": [
    "import tensorflow as tf\n",
    "import numpy as np"
   ]
  },
  {
   "cell_type": "markdown",
   "metadata": {
    "id": "WAsSiQpBTHt2"
   },
   "source": [
    "### 데이터 준비"
   ]
  },
  {
   "cell_type": "code",
   "execution_count": 2,
   "metadata": {
    "colab": {
     "base_uri": "https://localhost:8080/"
    },
    "executionInfo": {
     "elapsed": 395,
     "status": "ok",
     "timestamp": 1738323432257,
     "user": {
      "displayName": "chioh song",
      "userId": "05482793768581925652"
     },
     "user_tz": -540
    },
    "id": "cvh-450AN5KT",
    "outputId": "8fd827d6-33a0-43bf-cded-df56d937b115"
   },
   "outputs": [
    {
     "name": "stdout",
     "output_type": "stream",
     "text": [
      "{'나는': 0, '학교에': 1, '가고': 2, '있다': 3}\n",
      "{0: '나는', 1: '학교에', 2: '가고', 3: '있다'}\n"
     ]
    }
   ],
   "source": [
    "# 단어 시퀀스 데이터 준비\n",
    "words = ['나는', '학교에', '가고', '있다']\n",
    "word_to_idx = {word: idx for idx, word in enumerate(words)}\n",
    "idx_to_word = {idx: word for word, idx in word_to_idx.items()}\n",
    "\n",
    "print(word_to_idx)\n",
    "print(idx_to_word)"
   ]
  },
  {
   "cell_type": "markdown",
   "metadata": {
    "id": "5ZvisQzkTHt3"
   },
   "source": [
    "### 데이터 임베딩"
   ]
  },
  {
   "cell_type": "code",
   "execution_count": null,
   "metadata": {
    "id": "hi-aEeX7J9ll"
   },
   "outputs": [],
   "source": [
    "아산병원\n",
    "진료차트(자연어) -> 임베딩 -> 진료차트를 보고 이 사람이 1년이 내에 사망?생존?\n",
    "\n",
    "이 / 환자/ 는 / 노란 / 콧물\n",
    "헤모글로빈 / 수치 / 낮음\n",
    "* 토크나이징 -> 토큰화 -> 단어 개수 몇개인가? -> vocab_size  . 단어를 쪼개줌\n",
    "\n",
    "공백(어느정도의 스페이스)\n",
    "여러개의 공백 -> 하나의 공백으로 교체/개행 (엔터, 스페이스 등 공백 )\n",
    "\n",
    "구글이 만든 모델을 가져온다 -> 사전에 학습된 모델을 가져온다 -> 프리트레인드 모델(CNN과 연결)\n",
    "프리트레인드 모델 <- 나의 데이터를 추가적으로 쬬-끔 학습시켜줍니다 <- 나의 목적에 맞게 튜닝\n"
   ]
  },
  {
   "cell_type": "code",
   "execution_count": 3,
   "metadata": {
    "colab": {
     "base_uri": "https://localhost:8080/"
    },
    "executionInfo": {
     "elapsed": 323,
     "status": "ok",
     "timestamp": 1738324248528,
     "user": {
      "displayName": "chioh song",
      "userId": "05482793768581925652"
     },
     "user_tz": -540
    },
    "id": "k-dML2OtN7_p",
    "outputId": "1c745f33-e8c2-4c76-d17c-58d5c2b1db52"
   },
   "outputs": [
    {
     "data": {
      "text/plain": [
       "<keras.layers.core.embedding.Embedding at 0x7f9734524790>"
      ]
     },
     "execution_count": 3,
     "metadata": {},
     "output_type": "execute_result"
    }
   ],
   "source": [
    "# 임베딩 차원 설정\n",
    "# embedding_dim: 각 단어를 표현하는 벡터의 차원 수 (여기서는 5차원으로 설정, 3차원은 x,y,z축이며, 5차원은 그래프로 표현자체는 어려움, 차원을 높인다고 좋은건 아님, 차원의 저주 등이 존재하며)\n",
    "embedding_dim = 5\n",
    "\n",
    "# vocab_size: 어휘 사전의 크기 (총 단어의 개수)\n",
    "# words 리스트의 길이를 계산하여 설정 (여기서는 4개: '나는', '학교에', '가고', '있다')\n",
    "vocab_size = len(words) # 4\n",
    "\n",
    "# 임베딩 레이어 생성\n",
    "# tf.keras.layers.Embedding: 정수 인덱스를 고정된 크기의 밀집 벡터로 변환하는 레이어\n",
    "# 여기서는 4개의 단어('나는', '학교에', '가고', '있다')를 각각 5차원의 벡터로 변환하는 임베딩 레이어를 사용\n",
    "# 즉, 4x5 크기의 임베딩 행렬이 생성됨\n",
    "# 입력: vocab_size (어휘 크기)\n",
    "# 출력: embedding_dim (임베딩 차원)\n",
    "# 결과적으로 vocab_size x embedding_dim 크기의 임베딩 행렬이 생성됨\n",
    "embedding = tf.keras.layers.Embedding(vocab_size, embedding_dim) # 4, 5\n",
    "embedding"
   ]
  },
  {
   "cell_type": "markdown",
   "metadata": {
    "id": "5P4FrW2RTHt3"
   },
   "source": [
    "### 입력 시퀀스 생성"
   ]
  },
  {
   "cell_type": "code",
   "execution_count": 4,
   "metadata": {
    "colab": {
     "base_uri": "https://localhost:8080/"
    },
    "executionInfo": {
     "elapsed": 352,
     "status": "ok",
     "timestamp": 1738324249895,
     "user": {
      "displayName": "chioh song",
      "userId": "05482793768581925652"
     },
     "user_tz": -540
    },
    "id": "a_5mHDFCOBkz",
    "outputId": "a6ff48e5-7f7a-41d4-aab4-15d530727472"
   },
   "outputs": [
    {
     "name": "stdout",
     "output_type": "stream",
     "text": [
      "[[0, 1, 2, 3], [1, 2, 3, 0]]\n",
      "\n",
      "tf.Tensor(\n",
      "[[0 1 2 3]\n",
      " [1 2 3 0]], shape=(2, 4), dtype=int32)\n"
     ]
    },
    {
     "name": "stderr",
     "output_type": "stream",
     "text": [
      "2025-02-01 22:45:08.999598: I tensorflow/core/platform/cpu_feature_guard.cc:193] This TensorFlow binary is optimized with oneAPI Deep Neural Network Library (oneDNN) to use the following CPU instructions in performance-critical operations:  AVX2 FMA\n",
      "To enable them in other operations, rebuild TensorFlow with the appropriate compiler flags.\n"
     ]
    }
   ],
   "source": [
    "# 입력 시퀀스 생성 (배치 크기 = 2) # 배치 에포크 이터레이션 (데이터가 크면 나눠서 진행해준다)\n",
    "# 두 개의 문장을 생성:\n",
    "# 1) \"나는 학교에 가고 있다\"\n",
    "# 2) \"학교에 가고 있다 나는\"\n",
    "# word_to_idx를 사용하여 각 단어를 정수 인덱스로 변환\n",
    "input_sequence = [\n",
    "    [word_to_idx['나는'], word_to_idx['학교에'], word_to_idx['가고'], word_to_idx['있다']],\n",
    "    [word_to_idx['학교에'], word_to_idx['가고'], word_to_idx['있다'], word_to_idx['나는']]\n",
    "    ]\n",
    "# 생성된 정수 시퀀스 출력\n",
    "print(input_sequence)\n",
    "print()\n",
    "\n",
    "\n",
    "\n",
    "# input_sequence를 텐서플로우 상수 텐서로 변환\n",
    "# 이는 나중에 임베딩 레이어의 입력으로 사용됨\n",
    "input_sequence_ = tf.constant(input_sequence)\n",
    "# 텐서로 변환된 시퀀스 출력\n",
    "print(input_sequence_)"
   ]
  },
  {
   "cell_type": "markdown",
   "metadata": {
    "id": "R1TT0caZTHt3"
   },
   "source": [
    "### 입력 시퀀스를 임베딩"
   ]
  },
  {
   "cell_type": "code",
   "execution_count": 17,
   "metadata": {
    "colab": {
     "base_uri": "https://localhost:8080/"
    },
    "executionInfo": {
     "elapsed": 348,
     "status": "ok",
     "timestamp": 1738324259077,
     "user": {
      "displayName": "chioh song",
      "userId": "05482793768581925652"
     },
     "user_tz": -540
    },
    "id": "NMbau2SuOEy_",
    "outputId": "3543c1c8-38ce-4d42-b1a9-2ef1ffa545c3"
   },
   "outputs": [
    {
     "data": {
      "text/plain": [
       "<tf.Tensor: shape=(2, 4, 5), dtype=float32, numpy=\n",
       "array([[[-0.0294992 ,  0.00560477, -0.02485607, -0.01098778,\n",
       "         -0.0134889 ],\n",
       "        [ 0.00803609, -0.04116616, -0.04100607, -0.03225907,\n",
       "         -0.02941861],\n",
       "        [-0.01771401, -0.00604271, -0.01815657,  0.02957096,\n",
       "          0.02016914],\n",
       "        [-0.01247771,  0.01471099,  0.02071761,  0.01716476,\n",
       "         -0.02348535]],\n",
       "\n",
       "       [[ 0.00803609, -0.04116616, -0.04100607, -0.03225907,\n",
       "         -0.02941861],\n",
       "        [-0.01771401, -0.00604271, -0.01815657,  0.02957096,\n",
       "          0.02016914],\n",
       "        [-0.01247771,  0.01471099,  0.02071761,  0.01716476,\n",
       "         -0.02348535],\n",
       "        [-0.0294992 ,  0.00560477, -0.02485607, -0.01098778,\n",
       "         -0.0134889 ]]], dtype=float32)>"
      ]
     },
     "execution_count": 17,
     "metadata": {},
     "output_type": "execute_result"
    }
   ],
   "source": [
    "# 임베딩 적용\n",
    "embedded_sequence = embedding(input_sequence_)  # shape: (2, 4, 5)\n",
    "embedded_sequence"
   ]
  },
  {
   "cell_type": "markdown",
   "metadata": {
    "id": "wGPY83QcTHt3"
   },
   "source": [
    "### 쿼리 벡터 생성"
   ]
  },
  {
   "cell_type": "code",
   "execution_count": 29,
   "metadata": {
    "colab": {
     "base_uri": "https://localhost:8080/"
    },
    "executionInfo": {
     "elapsed": 328,
     "status": "ok",
     "timestamp": 1738324329967,
     "user": {
      "displayName": "chioh song",
      "userId": "05482793768581925652"
     },
     "user_tz": -540
    },
    "id": "4fRnBNMkOGOv",
    "outputId": "cb9c51af-86f3-4f60-d180-8ed6dd799b08"
   },
   "outputs": [
    {
     "data": {
      "text/plain": [
       "<tf.Tensor: shape=(2, 5), dtype=float32, numpy=\n",
       "array([[-0.0294992 ,  0.00560477, -0.02485607, -0.01098778, -0.0134889 ],\n",
       "       [ 0.00803609, -0.04116616, -0.04100607, -0.03225907, -0.02941861]],\n",
       "      dtype=float32)>"
      ]
     },
     "execution_count": 29,
     "metadata": {},
     "output_type": "execute_result"
    }
   ],
   "source": [
    "# 쿼리 벡터 생성 (예시로 첫 번째 단어의 임베딩을 쿼리로 사용)\n",
    "# 첫번째 문장: '나는'의 임베딩 벡터 [0.01159065, 0.02614441, 0.01953292, 0.0170218, 0.02222321]\n",
    "# 두번째 문장: '학교에'의 임베딩 벡터 [0.04224105, -0.01704571, 0.03613384, 0.00597052, 0.02944158]\n",
    "query = embedded_sequence[:, 0, :]  # shape: (2, 5)\n",
    "query"
   ]
  },
  {
   "cell_type": "markdown",
   "metadata": {
    "id": "RCLsiXyUTHt3"
   },
   "source": [
    "### Attention 레이어 생성\n",
    "\n",
    "- 사용자 정의 레이어 생성\n",
    "- 구조 참고: https://www.tensorflow.org/tutorials/customization/custom_layers#implementing_custom_layers\n"
   ]
  },
  {
   "cell_type": "code",
   "execution_count": 38,
   "metadata": {
    "executionInfo": {
     "elapsed": 344,
     "status": "ok",
     "timestamp": 1738326175964,
     "user": {
      "displayName": "chioh song",
      "userId": "05482793768581925652"
     },
     "user_tz": -540
    },
    "id": "8PKOGno0OAWZ"
   },
   "outputs": [],
   "source": [
    "# Attention 학습 방법\n",
    "# 1. Query, Key, Value 벡터 준비\n",
    "#    - Query: 현재 디코더의 은닉 상태 (찾고자 하는 정보)\n",
    "#    - Key: 인코더의 은닉 상태들 (참조할 정보)\n",
    "#    - Value: 실제 입력 시퀀스의 정보\n",
    "\n",
    "# 2. Attention Score 계산\n",
    "#    - Query와 Key 사이의 유사도를 내적으로 계산\n",
    "#    - 내적값이 클수록 두 벡터가 유사하며 해당 위치의 정보가 중요\n",
    "\n",
    "# 3. Attention Weight 계산\n",
    "#    - Score에 Softmax 적용하여 확률 분포로 변환\n",
    "#    - 모든 가중치의 합이 1이 되도록 정규화\n",
    "\n",
    "# 4. Context Vector 생성\n",
    "#    - Attention Weight와 Value를 가중합하여 최종 Context Vector 생성\n",
    "#    - 중요한 정보가 강조된 표현을 얻음\n",
    "\n",
    "# SimpleAttention 클래스는 tf.keras.layers.Layer를 상속받아 커스텀 레이어를 구현합니다.\n",
    "# tf.keras.layers.Layer는 모든 Keras 레이어의 기본 클래스입니다.\n",
    "# super().__init__()을 호출하여 부모 클래스의 초기화 메서드를 실행합니다.\n",
    "class SimpleAttention(tf.keras.layers.Layer):\n",
    "    def __init__(self, units):\n",
    "        super(SimpleAttention, self).__init__()\n",
    "\n",
    "        # units 인자는 Attention 메커니즘에서 사용할 은닉층의 크기를 지정합니다.\n",
    "        # 이 값은 Query와 Key를 동일한 차원으로 변환할 때 사용됩니다.\n",
    "\n",
    "        # 1단계: Query와 Key를 동일한 차원(units)으로 변환하기 위한 가중치 행렬 정의\n",
    "        # Dense 레이어의 출력 차원이 units가 됩니다.\n",
    "        self.W1 = tf.keras.layers.Dense(units)\n",
    "\n",
    "        # Attention score를 1차원으로 변환하기 위한 가중치 행렬\n",
    "        # Attention score를 1차원으로 변환하는 이유:\n",
    "        # 1. 각 시점(단어)마다 하나의 중요도 점수가 필요함\n",
    "        # 2. softmax 함수에 입력으로 사용하기 위해 스칼라 값 필요\n",
    "        # 3. attention weight를 계산할 때 각 단어별로 하나의 가중치가 필요하기 때문\n",
    "        # 최종적으로 각 시점에 대한 하나의 점수를 얻기 위해 1차원으로 압축\n",
    "        self.W2 = tf.keras.layers.Dense(1)\n",
    "\n",
    "    # call 메서드는 레이어가 호출될 때 실행되는 메서드입니다.\n",
    "    # tf.keras.layers.Layer를 상속받은 클래스에서 반드시 구현해야 하는 메서드이며,\n",
    "    # 실제 레이어의 연산을 정의하는 부분입니다.\n",
    "    # 입력:\n",
    "    # - query: 현재 디코더의 은닉 상태 (찾고자 하는 정보)\n",
    "    # - values: 인코더의 은닉 상태들 (참조할 정보이자 실제 입력 시퀀스의 정보)\n",
    "    def call(self, query, values):\n",
    "        # 1단계: Query 벡터 준비 - 시간 축 추가로 차원 확장\n",
    "        query_with_time_axis = tf.expand_dims(query, 1)\n",
    "        \n",
    "#         return query_with_time_axis\n",
    "        # 2단계: Attention Score 계산\n",
    "        # - Query와 Key(values)를 units 차원으로 변환 후 유사도를 내적을 활용하여 계산\n",
    "        # - 내적 후 tanh 활성화 함수로 비선형성 추가\n",
    "        score = self.W2(tf.nn.tanh(self.W1(query_with_time_axis) * self.W1(values)))\n",
    "\n",
    "        # # 3단계: Attention Weight 계산\n",
    "        # # - softmax로 정규화하여 모든 가중치 합이 1이 되도록 함\n",
    "        attention_weights = tf.nn.softmax(score, axis=1)\n",
    "\n",
    "        # # 4단계: Context Vector 계산\n",
    "        # # - attention weight와 value를 곱하여 중요 정보 강조\n",
    "        context_vector = attention_weights * values\n",
    "        # # - 가중합을 통해 최종 context vector 생성\n",
    "        context_vector = tf.reduce_sum(context_vector, axis=1)\n",
    "\n",
    "        return context_vector, attention_weights\n",
    "\n",
    "# embedding_dim을 units로 사용하여 Query와 Key의 차원을 맞춤\n",
    "# Query와 Key의 차원을 맞춰주는 이유:\n",
    "# 1. Attention Score 계산 시 내적 연산을 수행하기 위해서는 두 벡터의 차원이 동일해야 함\n",
    "# 2. SimpleAttention 클래스의 call() 메서드에서 self.W1을 통해 Query와 Key를 동일한 차원(units)으로 변환\n",
    "# 3. 이후 변환된 벡터들의 내적으로 유사도를 계산하여 Attention Score를 얻음\n",
    "# 따라서 embedding_dim을 units 파라미터로 사용하여 Query와 Key의 차원을 동일하게 맞춰줌\n",
    "attention_layer = SimpleAttention(embedding_dim) # 5\n",
    "context_vector, attention_weights = attention_layer(query, embedded_sequence)"
   ]
  },
  {
   "cell_type": "code",
   "execution_count": null,
   "metadata": {
    "id": "q0Ig28y1TgC3"
   },
   "outputs": [],
   "source": []
  },
  {
   "cell_type": "code",
   "execution_count": 35,
   "metadata": {
    "colab": {
     "base_uri": "https://localhost:8080/"
    },
    "executionInfo": {
     "elapsed": 353,
     "status": "ok",
     "timestamp": 1738326183915,
     "user": {
      "displayName": "chioh song",
      "userId": "05482793768581925652"
     },
     "user_tz": -540
    },
    "id": "c2Yx38XJOqIm",
    "outputId": "15a0d8d6-064f-4b64-80fe-3e2f8b30f27f"
   },
   "outputs": [
    {
     "name": "stdout",
     "output_type": "stream",
     "text": [
      "\n",
      "입력 문장:\n",
      "문장 1: 나는 학교에 가고 있다\n",
      "문장 2: 학교에 가고 있다 나는\n"
     ]
    }
   ],
   "source": [
    "print(\"\\n입력 문장:\")\n",
    "for i in range(2):\n",
    "    print(f\"문장 {i+1}:\", \" \".join([idx_to_word[idx.numpy()] for idx in input_sequence_[i]]))"
   ]
  },
  {
   "cell_type": "code",
   "execution_count": 36,
   "metadata": {
    "colab": {
     "base_uri": "https://localhost:8080/"
    },
    "executionInfo": {
     "elapsed": 327,
     "status": "ok",
     "timestamp": 1738326249723,
     "user": {
      "displayName": "chioh song",
      "userId": "05482793768581925652"
     },
     "user_tz": -540
    },
    "id": "7cZGNyMzUYkH",
    "outputId": "baa0162f-592c-4599-e3fb-b2efd3d33878"
   },
   "outputs": [
    {
     "data": {
      "text/plain": [
       "<tf.Tensor: shape=(1, 5), dtype=float32, numpy=\n",
       "array([[ 0.00803609, -0.04116616, -0.04100607, -0.03225907, -0.02941861]],\n",
       "      dtype=float32)>"
      ]
     },
     "execution_count": 36,
     "metadata": {},
     "output_type": "execute_result"
    }
   ],
   "source": [
    "attention_weights"
   ]
  },
  {
   "cell_type": "code",
   "execution_count": 39,
   "metadata": {
    "colab": {
     "base_uri": "https://localhost:8080/"
    },
    "executionInfo": {
     "elapsed": 356,
     "status": "ok",
     "timestamp": 1738326341639,
     "user": {
      "displayName": "chioh song",
      "userId": "05482793768581925652"
     },
     "user_tz": -540
    },
    "id": "49RFv2EQOr-7",
    "outputId": "fa4df3e0-cddc-469e-e98e-ff575bea4cf7"
   },
   "outputs": [
    {
     "name": "stdout",
     "output_type": "stream",
     "text": [
      "\n",
      "Attention 가중치:\n",
      "\n",
      "문장 1의 각 단어에 대한 attention 가중치:\n",
      "나는: 0.250\n",
      "학교에: 0.250\n",
      "가고: 0.250\n",
      "있다: 0.250\n",
      "\n",
      "문장 2의 각 단어에 대한 attention 가중치:\n",
      "나는: 0.250\n",
      "학교에: 0.250\n",
      "가고: 0.250\n",
      "있다: 0.250\n"
     ]
    }
   ],
   "source": [
    "print(\"\\nAttention 가중치:\")\n",
    "for i in range(2):\n",
    "    print(f\"\\n문장 {i+1}의 각 단어에 대한 attention 가중치:\")\n",
    "    for j, word in enumerate(words):\n",
    "        weight = attention_weights[i][j].numpy()[0]\n",
    "        print(f\"{idx_to_word[j]}: {weight:.3f}\")"
   ]
  },
  {
   "cell_type": "markdown",
   "metadata": {
    "id": "Boa72iEjVBHa"
   },
   "source": [
    "---\n",
    "\n",
    "### tf.keras.layers.Attention을 사용한 더 간단한 구현"
   ]
  },
  {
   "cell_type": "code",
   "execution_count": 40,
   "metadata": {
    "executionInfo": {
     "elapsed": 331,
     "status": "ok",
     "timestamp": 1738326417918,
     "user": {
      "displayName": "chioh song",
      "userId": "05482793768581925652"
     },
     "user_tz": -540
    },
    "id": "ICLEsh4BVAmS"
   },
   "outputs": [],
   "source": [
    "# 자연어 처리를 위한 예시 문장 준비\n",
    "words = ['cat', 'saw', 'fish', 'in', 'the', 'pond', 'and', 'decided', 'to', 'catch']\n",
    "word_to_idx = {word: idx for idx, word in enumerate(words)}\n",
    "idx_to_word = {idx: word for idx, word in enumerate(words)}\n",
    "\n",
    "# 두 개의 영어 문장 생성\n",
    "input_sequence = tf.constant([\n",
    "    [0, 1, 2, 3, 4, 5, 6, 7, 8, 9],  # \"cat saw fish in the pond and decided to catch\" 10개의 단어\n",
    "    [2, 3, 4, 5, 6, 7, 8, 9, 9, 9]   # \"fish in the pond and decided to catch\" 8개 단어\n",
    "])\n"
   ]
  },
  {
   "cell_type": "code",
   "execution_count": 41,
   "metadata": {
    "colab": {
     "base_uri": "https://localhost:8080/"
    },
    "executionInfo": {
     "elapsed": 351,
     "status": "ok",
     "timestamp": 1738326594635,
     "user": {
      "displayName": "chioh song",
      "userId": "05482793768581925652"
     },
     "user_tz": -540
    },
    "id": "xLdyW2hUVBHa",
    "outputId": "e9767f77-a644-4d56-e3fa-92a2b5c40fea"
   },
   "outputs": [
    {
     "data": {
      "text/plain": [
       "<tf.Tensor: shape=(2, 10), dtype=float32, numpy=\n",
       "array([[-0.8390877 ,  1.919225  ,  0.00363624, -0.66230583, -2.4693048 ,\n",
       "        -0.27012685, -1.1110951 ,  1.4539831 ,  0.09375298,  0.59442014],\n",
       "       [ 1.0056814 ,  0.26804754,  2.5898736 , -1.1057687 , -0.6461786 ,\n",
       "        -0.8894963 ,  1.7569269 ,  0.05415321,  0.35458943, -0.8559529 ]],\n",
       "      dtype=float32)>"
      ]
     },
     "execution_count": 41,
     "metadata": {},
     "output_type": "execute_result"
    }
   ],
   "source": [
    "\n",
    "# 단어 임베딩 차원 설정\n",
    "embedding_dim = 10\n",
    "\n",
    "# 문장에 단어 임베딩 레이어 생성 및 적용\n",
    "embedding_layer = tf.keras.layers.Embedding(len(words), embedding_dim)\n",
    "embedded_sequence = embedding_layer(input_sequence)\n",
    "\n",
    "# 문장 분석을 위한 Query 벡터 생성\n",
    "query = tf.random.normal([2, embedding_dim])  # batch size 2, embedding dimension 5\n",
    "query"
   ]
  },
  {
   "cell_type": "code",
   "execution_count": 42,
   "metadata": {
    "colab": {
     "base_uri": "https://localhost:8080/"
    },
    "executionInfo": {
     "elapsed": 329,
     "status": "ok",
     "timestamp": 1738326637979,
     "user": {
      "displayName": "chioh song",
      "userId": "05482793768581925652"
     },
     "user_tz": -540
    },
    "id": "vfYsfxJBNr7t",
    "outputId": "38df3308-0ffe-47d2-bd7e-803c4f0e18b1"
   },
   "outputs": [
    {
     "name": "stdout",
     "output_type": "stream",
     "text": [
      "\n",
      "기본 Attention 레이어 출력:\n",
      "(2, 1, 10)\n",
      "tf.Tensor(\n",
      "[[[-0.00624432  0.01839223 -0.0094374   0.00470512 -0.01510459\n",
      "    0.00155678  0.01165645  0.01281288 -0.01358805  0.00321485]]\n",
      "\n",
      " [[ 0.00935854  0.01467576 -0.01652054 -0.00255084 -0.01317625\n",
      "    0.0145024   0.01836742  0.01648091 -0.00559907  0.00177507]]], shape=(2, 1, 10), dtype=float32)\n"
     ]
    }
   ],
   "source": [
    "# tf.keras.layers.Attention을 사용한 더 간단한 구현\n",
    "attention = tf.keras.layers.Attention()\n",
    "\n",
    "# query와 value의 shape을 맞추기 위해 query 차원 확장\n",
    "query_with_time_axis = tf.expand_dims(query, 1)\n",
    "\n",
    "# Attention 계산\n",
    "attention_output = attention([query_with_time_axis, embedded_sequence])\n",
    "\n",
    "print(\"\\n기본 Attention 레이어 출력:\")\n",
    "print(attention_output.shape)\n",
    "print(attention_output)\n",
    "\n",
    "# 참고: tf.keras.layers.Attention은 내부적으로\n",
    "# Query, Key, Value에 대한 변환과 스케일링,\n",
    "# softmax를 통한 가중치 계산 등을 자동으로 처리합니다.\n"
   ]
  },
  {
   "cell_type": "code",
   "execution_count": 43,
   "metadata": {
    "colab": {
     "base_uri": "https://localhost:8080/",
     "height": 507
    },
    "executionInfo": {
     "elapsed": 2206,
     "status": "ok",
     "timestamp": 1738326683840,
     "user": {
      "displayName": "chioh song",
      "userId": "05482793768581925652"
     },
     "user_tz": -540
    },
    "id": "H-jIf5QpXjp3",
    "outputId": "a1e351ee-f5fc-46b2-ad01-3da2a8fca064"
   },
   "outputs": [
    {
     "data": {
      "image/png": "[encoded data removed]",
      "text/plain": [
       "<Figure size 720x360 with 4 Axes>"
      ]
     },
     "metadata": {
      "needs_background": "light"
     },
     "output_type": "display_data"
    }
   ],
   "source": [
    "# 시각화를 위한 라이브러리 임포트\n",
    "import matplotlib.pyplot as plt\n",
    "import seaborn as sns\n",
    "\n",
    "# Attention 가중치 계산\n",
    "attention_weights = tf.nn.softmax(attention_output, axis=-1)\n",
    "\n",
    "# 히트맵 그리기\n",
    "plt.figure(figsize=(10, 5))\n",
    "\n",
    "# 첫 번째 문장의 Attention 시각화\n",
    "plt.subplot(2, 1, 1)\n",
    "sns.heatmap(attention_weights[0],\n",
    "            xticklabels=['cat', 'saw', 'fish', 'in', 'the', 'pond', 'and', 'decided', 'to', 'catch'],\n",
    "            yticklabels=['Sentence 1'],\n",
    "            annot=True)\n",
    "plt.title('Attention Weights of First Sentence')\n",
    "\n",
    "# 두 번째 문장의 Attention 시각화\n",
    "plt.subplot(2, 1, 2)\n",
    "sns.heatmap(attention_weights[1],\n",
    "            xticklabels=['fish', 'in', 'the', 'pond', 'and', 'decided', 'to', 'catch', 'catch', 'catch'],\n",
    "            yticklabels=['Sentence 2'],\n",
    "            annot=True)\n",
    "plt.title('Attention Weights of Second Sentence')\n",
    "\n",
    "plt.tight_layout()\n",
    "plt.show()\n"
   ]
  },
  {
   "cell_type": "markdown",
   "metadata": {
    "id": "5_N6ql9PndM9"
   },
   "source": [
    "히트맵 시각화 결과 분석\n",
    "\n",
    "1. 두 문장의 Attention 가중치가 비슷한 패턴을 보이는 이유:\n",
    "   - 현재 구현된 기본 Attention 모델은 단순히 단어 임베딩 간의 유사도만을 계산\n",
    "   - 문맥적 정보나 위치 정보를 고려하지 않음\n",
    "   - 실제 자연어의 문맥적 의미를 충분히 반영하지 못함\n",
    "2. 개선 방안:\n",
    "   - Positional Encoding을 추가하여 단어의 위치 정보 반영\n",
    "   - Self-Attention 메커니즘 도입\n",
    "   - Multi-head Attention 사용으로 다양한 관점에서의 관계 파악\n"
   ]
  },
  {
   "cell_type": "code",
   "execution_count": 46,
   "metadata": {
    "id": "K14ii3nmVIYm"
   },
   "outputs": [
    {
     "ename": "SyntaxError",
     "evalue": "invalid syntax (3319954619.py, line 8)",
     "output_type": "error",
     "traceback": [
      "\u001b[0;36m  File \u001b[0;32m\"/var/folders/j5/k9v_p2y97k3299xzm4c48rg40000gn/T/ipykernel_9837/3319954619.py\"\u001b[0;36m, line \u001b[0;32m8\u001b[0m\n\u001b[0;31m    pip install sentencepiece\u001b[0m\n\u001b[0m        ^\u001b[0m\n\u001b[0;31mSyntaxError\u001b[0m\u001b[0;31m:\u001b[0m invalid syntax\n"
     ]
    }
   ],
   "source": [
    "#위치에 대한 정보를 제대로 파악하지 못하고 있음, 순서의 의미 Positional Encoding 반영해서 정확히 해줘야함\n",
    "\n",
    "#개선 방안:\n",
    "#Positional Encoding을 추가하여 단어의 위치 정보 반영\n",
    "#Self-Attention 메커니즘 도입\n",
    "#Multi-head Attention 사용으로 다양한 관점에서의 관계 파악"
   ]
  },
  {
   "cell_type": "code",
   "execution_count": null,
   "metadata": {},
   "outputs": [],
   "source": [
    "# 어떤 프리트레인드 모델을 사용할 계획\n",
    "\n",
    "#Transformer 기반(BERT, GPT, T5, etc.)\n",
    "#Vision 모델(ViT, CLIP, etc.)\n",
    "#Seq2Seq 모델(T5, BART, etc.)\n",
    "#다른 도메인 특화 모델(예: BioBERT, CodeBERT 등)\n",
    "\n",
    "#텍스트 분류\n",
    "#기계 번역\n",
    "#요약\n",
    "#질의응답(QA)\n",
    "#시계열 예측"
   ]
  },
  {
   "cell_type": "code",
   "execution_count": 13,
   "metadata": {},
   "outputs": [
    {
     "data": {
      "application/vnd.jupyter.widget-view+json": {
       "model_id": "2ff6d2a157d049798acd5f012cd91c98",
       "version_major": 2,
       "version_minor": 0
      },
      "text/plain": [
       "spiece.model:   0%|          | 0.00/792k [00:00<?, ?B/s]"
      ]
     },
     "metadata": {},
     "output_type": "display_data"
    },
    {
     "data": {
      "application/vnd.jupyter.widget-view+json": {
       "model_id": "a603d6e0c1144d8cad71098d743aa08f",
       "version_major": 2,
       "version_minor": 0
      },
      "text/plain": [
       "tokenizer.json:   0%|          | 0.00/1.39M [00:00<?, ?B/s]"
      ]
     },
     "metadata": {},
     "output_type": "display_data"
    },
    {
     "name": "stderr",
     "output_type": "stream",
     "text": [
      "Special tokens have been added in the vocabulary, make sure the associated word embeddings are fine-tuned or trained.\n"
     ]
    },
    {
     "data": {
      "application/vnd.jupyter.widget-view+json": {
       "model_id": "368829dd1b744cfe8e132d5d067f44c7",
       "version_major": 2,
       "version_minor": 0
      },
      "text/plain": [
       "config.json:   0%|          | 0.00/1.21k [00:00<?, ?B/s]"
      ]
     },
     "metadata": {},
     "output_type": "display_data"
    },
    {
     "data": {
      "application/vnd.jupyter.widget-view+json": {
       "model_id": "a9c5a7a25b9c4ace8b561054ae26f600",
       "version_major": 2,
       "version_minor": 0
      },
      "text/plain": [
       "config.json:   0%|          | 0.00/1.21k [00:00<?, ?B/s]"
      ]
     },
     "metadata": {},
     "output_type": "display_data"
    },
    {
     "data": {
      "application/vnd.jupyter.widget-view+json": {
       "model_id": "586129c8c1df4d83be704eb3243d3f01",
       "version_major": 2,
       "version_minor": 0
      },
      "text/plain": [
       "model.safetensors:   0%|          | 0.00/892M [00:00<?, ?B/s]"
      ]
     },
     "metadata": {},
     "output_type": "display_data"
    },
    {
     "ename": "KeyboardInterrupt",
     "evalue": "",
     "output_type": "error",
     "traceback": [
      "\u001b[0;31m---------------------------------------------------------------------------\u001b[0m",
      "\u001b[0;31mKeyboardInterrupt\u001b[0m                         Traceback (most recent call last)",
      "\u001b[0;32m/var/folders/j5/k9v_p2y97k3299xzm4c48rg40000gn/T/ipykernel_10464/2152471693.py\u001b[0m in \u001b[0;36m<module>\u001b[0;34m\u001b[0m\n\u001b[1;32m      3\u001b[0m \u001b[0mmodel_name\u001b[0m \u001b[0;34m=\u001b[0m \u001b[0;34m\"t5-base\"\u001b[0m \u001b[0;31m# 또는 \"t5-large\",\"t5-small\"\u001b[0m\u001b[0;34m\u001b[0m\u001b[0;34m\u001b[0m\u001b[0m\n\u001b[1;32m      4\u001b[0m \u001b[0mtokenizer\u001b[0m \u001b[0;34m=\u001b[0m \u001b[0mT5Tokenizer\u001b[0m\u001b[0;34m.\u001b[0m\u001b[0mfrom_pretrained\u001b[0m\u001b[0;34m(\u001b[0m\u001b[0mmodel_name\u001b[0m\u001b[0;34m,\u001b[0m \u001b[0mforce_download\u001b[0m\u001b[0;34m=\u001b[0m\u001b[0;32mTrue\u001b[0m\u001b[0;34m)\u001b[0m\u001b[0;34m\u001b[0m\u001b[0;34m\u001b[0m\u001b[0m\n\u001b[0;32m----> 5\u001b[0;31m \u001b[0mmodel\u001b[0m \u001b[0;34m=\u001b[0m \u001b[0mT5ForConditionalGeneration\u001b[0m\u001b[0;34m.\u001b[0m\u001b[0mfrom_pretrained\u001b[0m\u001b[0;34m(\u001b[0m\u001b[0mmodel_name\u001b[0m\u001b[0;34m,\u001b[0m \u001b[0mforce_download\u001b[0m\u001b[0;34m=\u001b[0m\u001b[0;32mTrue\u001b[0m\u001b[0;34m)\u001b[0m\u001b[0;34m\u001b[0m\u001b[0;34m\u001b[0m\u001b[0m\n\u001b[0m\u001b[1;32m      6\u001b[0m \u001b[0;34m\u001b[0m\u001b[0m\n\u001b[1;32m      7\u001b[0m \u001b[0;31m# 모델 선택\u001b[0m\u001b[0;34m\u001b[0m\u001b[0;34m\u001b[0m\u001b[0m\n",
      "\u001b[0;32m~/opt/anaconda3/lib/python3.9/site-packages/transformers/modeling_utils.py\u001b[0m in \u001b[0;36mfrom_pretrained\u001b[0;34m(cls, pretrained_model_name_or_path, config, cache_dir, ignore_mismatched_sizes, force_download, local_files_only, token, revision, use_safetensors, *model_args, **kwargs)\u001b[0m\n\u001b[1;32m   3035\u001b[0m                         \u001b[0;34m\"_commit_hash\"\u001b[0m\u001b[0;34m:\u001b[0m \u001b[0mcommit_hash\u001b[0m\u001b[0;34m,\u001b[0m\u001b[0;34m\u001b[0m\u001b[0;34m\u001b[0m\u001b[0m\n\u001b[1;32m   3036\u001b[0m                     }\n\u001b[0;32m-> 3037\u001b[0;31m                     \u001b[0mresolved_archive_file\u001b[0m \u001b[0;34m=\u001b[0m \u001b[0mcached_file\u001b[0m\u001b[0;34m(\u001b[0m\u001b[0mpretrained_model_name_or_path\u001b[0m\u001b[0;34m,\u001b[0m \u001b[0mfilename\u001b[0m\u001b[0;34m,\u001b[0m \u001b[0;34m**\u001b[0m\u001b[0mcached_file_kwargs\u001b[0m\u001b[0;34m)\u001b[0m\u001b[0;34m\u001b[0m\u001b[0;34m\u001b[0m\u001b[0m\n\u001b[0m\u001b[1;32m   3038\u001b[0m \u001b[0;34m\u001b[0m\u001b[0m\n\u001b[1;32m   3039\u001b[0m                     \u001b[0;31m# Since we set _raise_exceptions_for_missing_entries=False, we don't get an exception but a None\u001b[0m\u001b[0;34m\u001b[0m\u001b[0;34m\u001b[0m\u001b[0m\n",
      "\u001b[0;32m~/opt/anaconda3/lib/python3.9/site-packages/transformers/utils/hub.py\u001b[0m in \u001b[0;36mcached_file\u001b[0;34m(path_or_repo_id, filename, cache_dir, force_download, resume_download, proxies, token, revision, local_files_only, subfolder, repo_type, user_agent, _raise_exceptions_for_missing_entries, _raise_exceptions_for_connection_errors, _commit_hash, **deprecated_kwargs)\u001b[0m\n\u001b[1;32m    428\u001b[0m     \u001b[0;32mtry\u001b[0m\u001b[0;34m:\u001b[0m\u001b[0;34m\u001b[0m\u001b[0;34m\u001b[0m\u001b[0m\n\u001b[1;32m    429\u001b[0m         \u001b[0;31m# Load from URL or cache if already cached\u001b[0m\u001b[0;34m\u001b[0m\u001b[0;34m\u001b[0m\u001b[0m\n\u001b[0;32m--> 430\u001b[0;31m         resolved_file = hf_hub_download(\n\u001b[0m\u001b[1;32m    431\u001b[0m             \u001b[0mpath_or_repo_id\u001b[0m\u001b[0;34m,\u001b[0m\u001b[0;34m\u001b[0m\u001b[0;34m\u001b[0m\u001b[0m\n\u001b[1;32m    432\u001b[0m             \u001b[0mfilename\u001b[0m\u001b[0;34m,\u001b[0m\u001b[0;34m\u001b[0m\u001b[0;34m\u001b[0m\u001b[0m\n",
      "\u001b[0;32m~/opt/anaconda3/lib/python3.9/site-packages/huggingface_hub/utils/_validators.py\u001b[0m in \u001b[0;36m_inner_fn\u001b[0;34m(*args, **kwargs)\u001b[0m\n\u001b[1;32m    116\u001b[0m             \u001b[0mkwargs\u001b[0m \u001b[0;34m=\u001b[0m \u001b[0msmoothly_deprecate_use_auth_token\u001b[0m\u001b[0;34m(\u001b[0m\u001b[0mfn_name\u001b[0m\u001b[0;34m=\u001b[0m\u001b[0mfn\u001b[0m\u001b[0;34m.\u001b[0m\u001b[0m__name__\u001b[0m\u001b[0;34m,\u001b[0m \u001b[0mhas_token\u001b[0m\u001b[0;34m=\u001b[0m\u001b[0mhas_token\u001b[0m\u001b[0;34m,\u001b[0m \u001b[0mkwargs\u001b[0m\u001b[0;34m=\u001b[0m\u001b[0mkwargs\u001b[0m\u001b[0;34m)\u001b[0m\u001b[0;34m\u001b[0m\u001b[0;34m\u001b[0m\u001b[0m\n\u001b[1;32m    117\u001b[0m \u001b[0;34m\u001b[0m\u001b[0m\n\u001b[0;32m--> 118\u001b[0;31m         \u001b[0;32mreturn\u001b[0m \u001b[0mfn\u001b[0m\u001b[0;34m(\u001b[0m\u001b[0;34m*\u001b[0m\u001b[0margs\u001b[0m\u001b[0;34m,\u001b[0m \u001b[0;34m**\u001b[0m\u001b[0mkwargs\u001b[0m\u001b[0;34m)\u001b[0m\u001b[0;34m\u001b[0m\u001b[0;34m\u001b[0m\u001b[0m\n\u001b[0m\u001b[1;32m    119\u001b[0m \u001b[0;34m\u001b[0m\u001b[0m\n\u001b[1;32m    120\u001b[0m     \u001b[0;32mreturn\u001b[0m \u001b[0m_inner_fn\u001b[0m  \u001b[0;31m# type: ignore\u001b[0m\u001b[0;34m\u001b[0m\u001b[0;34m\u001b[0m\u001b[0m\n",
      "\u001b[0;32m~/opt/anaconda3/lib/python3.9/site-packages/huggingface_hub/file_download.py\u001b[0m in \u001b[0;36mhf_hub_download\u001b[0;34m(repo_id, filename, subfolder, repo_type, revision, library_name, library_version, cache_dir, local_dir, local_dir_use_symlinks, user_agent, force_download, force_filename, proxies, etag_timeout, resume_download, token, local_files_only, legacy_cache_layout, endpoint)\u001b[0m\n\u001b[1;32m   1459\u001b[0m                     \u001b[0m_check_disk_space\u001b[0m\u001b[0;34m(\u001b[0m\u001b[0mexpected_size\u001b[0m\u001b[0;34m,\u001b[0m \u001b[0mlocal_dir\u001b[0m\u001b[0;34m)\u001b[0m\u001b[0;34m\u001b[0m\u001b[0;34m\u001b[0m\u001b[0m\n\u001b[1;32m   1460\u001b[0m \u001b[0;34m\u001b[0m\u001b[0m\n\u001b[0;32m-> 1461\u001b[0;31m             http_get(\n\u001b[0m\u001b[1;32m   1462\u001b[0m                 \u001b[0murl_to_download\u001b[0m\u001b[0;34m,\u001b[0m\u001b[0;34m\u001b[0m\u001b[0;34m\u001b[0m\u001b[0m\n\u001b[1;32m   1463\u001b[0m                 \u001b[0mtemp_file\u001b[0m\u001b[0;34m,\u001b[0m\u001b[0;34m\u001b[0m\u001b[0;34m\u001b[0m\u001b[0m\n",
      "\u001b[0;32m~/opt/anaconda3/lib/python3.9/site-packages/huggingface_hub/file_download.py\u001b[0m in \u001b[0;36mhttp_get\u001b[0;34m(url, temp_file, proxies, resume_size, headers, expected_size, _nb_retries)\u001b[0m\n\u001b[1;32m    539\u001b[0m         \u001b[0mnew_resume_size\u001b[0m \u001b[0;34m=\u001b[0m \u001b[0mresume_size\u001b[0m\u001b[0;34m\u001b[0m\u001b[0;34m\u001b[0m\u001b[0m\n\u001b[1;32m    540\u001b[0m         \u001b[0;32mtry\u001b[0m\u001b[0;34m:\u001b[0m\u001b[0;34m\u001b[0m\u001b[0;34m\u001b[0m\u001b[0m\n\u001b[0;32m--> 541\u001b[0;31m             \u001b[0;32mfor\u001b[0m \u001b[0mchunk\u001b[0m \u001b[0;32min\u001b[0m \u001b[0mr\u001b[0m\u001b[0;34m.\u001b[0m\u001b[0miter_content\u001b[0m\u001b[0;34m(\u001b[0m\u001b[0mchunk_size\u001b[0m\u001b[0;34m=\u001b[0m\u001b[0mDOWNLOAD_CHUNK_SIZE\u001b[0m\u001b[0;34m)\u001b[0m\u001b[0;34m:\u001b[0m\u001b[0;34m\u001b[0m\u001b[0;34m\u001b[0m\u001b[0m\n\u001b[0m\u001b[1;32m    542\u001b[0m                 \u001b[0;32mif\u001b[0m \u001b[0mchunk\u001b[0m\u001b[0;34m:\u001b[0m  \u001b[0;31m# filter out keep-alive new chunks\u001b[0m\u001b[0;34m\u001b[0m\u001b[0;34m\u001b[0m\u001b[0m\n\u001b[1;32m    543\u001b[0m                     \u001b[0mprogress\u001b[0m\u001b[0;34m.\u001b[0m\u001b[0mupdate\u001b[0m\u001b[0;34m(\u001b[0m\u001b[0mlen\u001b[0m\u001b[0;34m(\u001b[0m\u001b[0mchunk\u001b[0m\u001b[0;34m)\u001b[0m\u001b[0;34m)\u001b[0m\u001b[0;34m\u001b[0m\u001b[0;34m\u001b[0m\u001b[0m\n",
      "\u001b[0;32m~/opt/anaconda3/lib/python3.9/site-packages/requests/models.py\u001b[0m in \u001b[0;36mgenerate\u001b[0;34m()\u001b[0m\n\u001b[1;32m    814\u001b[0m             \u001b[0;32mif\u001b[0m \u001b[0mhasattr\u001b[0m\u001b[0;34m(\u001b[0m\u001b[0mself\u001b[0m\u001b[0;34m.\u001b[0m\u001b[0mraw\u001b[0m\u001b[0;34m,\u001b[0m \u001b[0;34m\"stream\"\u001b[0m\u001b[0;34m)\u001b[0m\u001b[0;34m:\u001b[0m\u001b[0;34m\u001b[0m\u001b[0;34m\u001b[0m\u001b[0m\n\u001b[1;32m    815\u001b[0m                 \u001b[0;32mtry\u001b[0m\u001b[0;34m:\u001b[0m\u001b[0;34m\u001b[0m\u001b[0;34m\u001b[0m\u001b[0m\n\u001b[0;32m--> 816\u001b[0;31m                     \u001b[0;32myield\u001b[0m \u001b[0;32mfrom\u001b[0m \u001b[0mself\u001b[0m\u001b[0;34m.\u001b[0m\u001b[0mraw\u001b[0m\u001b[0;34m.\u001b[0m\u001b[0mstream\u001b[0m\u001b[0;34m(\u001b[0m\u001b[0mchunk_size\u001b[0m\u001b[0;34m,\u001b[0m \u001b[0mdecode_content\u001b[0m\u001b[0;34m=\u001b[0m\u001b[0;32mTrue\u001b[0m\u001b[0;34m)\u001b[0m\u001b[0;34m\u001b[0m\u001b[0;34m\u001b[0m\u001b[0m\n\u001b[0m\u001b[1;32m    817\u001b[0m                 \u001b[0;32mexcept\u001b[0m \u001b[0mProtocolError\u001b[0m \u001b[0;32mas\u001b[0m \u001b[0me\u001b[0m\u001b[0;34m:\u001b[0m\u001b[0;34m\u001b[0m\u001b[0;34m\u001b[0m\u001b[0m\n\u001b[1;32m    818\u001b[0m                     \u001b[0;32mraise\u001b[0m \u001b[0mChunkedEncodingError\u001b[0m\u001b[0;34m(\u001b[0m\u001b[0me\u001b[0m\u001b[0;34m)\u001b[0m\u001b[0;34m\u001b[0m\u001b[0;34m\u001b[0m\u001b[0m\n",
      "\u001b[0;32m~/opt/anaconda3/lib/python3.9/site-packages/urllib3/response.py\u001b[0m in \u001b[0;36mstream\u001b[0;34m(self, amt, decode_content)\u001b[0m\n\u001b[1;32m    574\u001b[0m         \u001b[0;32melse\u001b[0m\u001b[0;34m:\u001b[0m\u001b[0;34m\u001b[0m\u001b[0;34m\u001b[0m\u001b[0m\n\u001b[1;32m    575\u001b[0m             \u001b[0;32mwhile\u001b[0m \u001b[0;32mnot\u001b[0m \u001b[0mis_fp_closed\u001b[0m\u001b[0;34m(\u001b[0m\u001b[0mself\u001b[0m\u001b[0;34m.\u001b[0m\u001b[0m_fp\u001b[0m\u001b[0;34m)\u001b[0m\u001b[0;34m:\u001b[0m\u001b[0;34m\u001b[0m\u001b[0;34m\u001b[0m\u001b[0m\n\u001b[0;32m--> 576\u001b[0;31m                 \u001b[0mdata\u001b[0m \u001b[0;34m=\u001b[0m \u001b[0mself\u001b[0m\u001b[0;34m.\u001b[0m\u001b[0mread\u001b[0m\u001b[0;34m(\u001b[0m\u001b[0mamt\u001b[0m\u001b[0;34m=\u001b[0m\u001b[0mamt\u001b[0m\u001b[0;34m,\u001b[0m \u001b[0mdecode_content\u001b[0m\u001b[0;34m=\u001b[0m\u001b[0mdecode_content\u001b[0m\u001b[0;34m)\u001b[0m\u001b[0;34m\u001b[0m\u001b[0;34m\u001b[0m\u001b[0m\n\u001b[0m\u001b[1;32m    577\u001b[0m \u001b[0;34m\u001b[0m\u001b[0m\n\u001b[1;32m    578\u001b[0m                 \u001b[0;32mif\u001b[0m \u001b[0mdata\u001b[0m\u001b[0;34m:\u001b[0m\u001b[0;34m\u001b[0m\u001b[0;34m\u001b[0m\u001b[0m\n",
      "\u001b[0;32m~/opt/anaconda3/lib/python3.9/site-packages/urllib3/response.py\u001b[0m in \u001b[0;36mread\u001b[0;34m(self, amt, decode_content, cache_content)\u001b[0m\n\u001b[1;32m    517\u001b[0m             \u001b[0;32melse\u001b[0m\u001b[0;34m:\u001b[0m\u001b[0;34m\u001b[0m\u001b[0;34m\u001b[0m\u001b[0m\n\u001b[1;32m    518\u001b[0m                 \u001b[0mcache_content\u001b[0m \u001b[0;34m=\u001b[0m \u001b[0;32mFalse\u001b[0m\u001b[0;34m\u001b[0m\u001b[0;34m\u001b[0m\u001b[0m\n\u001b[0;32m--> 519\u001b[0;31m                 \u001b[0mdata\u001b[0m \u001b[0;34m=\u001b[0m \u001b[0mself\u001b[0m\u001b[0;34m.\u001b[0m\u001b[0m_fp\u001b[0m\u001b[0;34m.\u001b[0m\u001b[0mread\u001b[0m\u001b[0;34m(\u001b[0m\u001b[0mamt\u001b[0m\u001b[0;34m)\u001b[0m \u001b[0;32mif\u001b[0m \u001b[0;32mnot\u001b[0m \u001b[0mfp_closed\u001b[0m \u001b[0;32melse\u001b[0m \u001b[0;34mb\"\"\u001b[0m\u001b[0;34m\u001b[0m\u001b[0;34m\u001b[0m\u001b[0m\n\u001b[0m\u001b[1;32m    520\u001b[0m                 if (\n\u001b[1;32m    521\u001b[0m                     \u001b[0mamt\u001b[0m \u001b[0;34m!=\u001b[0m \u001b[0;36m0\u001b[0m \u001b[0;32mand\u001b[0m \u001b[0;32mnot\u001b[0m \u001b[0mdata\u001b[0m\u001b[0;34m\u001b[0m\u001b[0;34m\u001b[0m\u001b[0m\n",
      "\u001b[0;32m~/opt/anaconda3/lib/python3.9/http/client.py\u001b[0m in \u001b[0;36mread\u001b[0;34m(self, amt)\u001b[0m\n\u001b[1;32m    460\u001b[0m             \u001b[0;31m# Amount is given, implement using readinto\u001b[0m\u001b[0;34m\u001b[0m\u001b[0;34m\u001b[0m\u001b[0m\n\u001b[1;32m    461\u001b[0m             \u001b[0mb\u001b[0m \u001b[0;34m=\u001b[0m \u001b[0mbytearray\u001b[0m\u001b[0;34m(\u001b[0m\u001b[0mamt\u001b[0m\u001b[0;34m)\u001b[0m\u001b[0;34m\u001b[0m\u001b[0;34m\u001b[0m\u001b[0m\n\u001b[0;32m--> 462\u001b[0;31m             \u001b[0mn\u001b[0m \u001b[0;34m=\u001b[0m \u001b[0mself\u001b[0m\u001b[0;34m.\u001b[0m\u001b[0mreadinto\u001b[0m\u001b[0;34m(\u001b[0m\u001b[0mb\u001b[0m\u001b[0;34m)\u001b[0m\u001b[0;34m\u001b[0m\u001b[0;34m\u001b[0m\u001b[0m\n\u001b[0m\u001b[1;32m    463\u001b[0m             \u001b[0;32mreturn\u001b[0m \u001b[0mmemoryview\u001b[0m\u001b[0;34m(\u001b[0m\u001b[0mb\u001b[0m\u001b[0;34m)\u001b[0m\u001b[0;34m[\u001b[0m\u001b[0;34m:\u001b[0m\u001b[0mn\u001b[0m\u001b[0;34m]\u001b[0m\u001b[0;34m.\u001b[0m\u001b[0mtobytes\u001b[0m\u001b[0;34m(\u001b[0m\u001b[0;34m)\u001b[0m\u001b[0;34m\u001b[0m\u001b[0;34m\u001b[0m\u001b[0m\n\u001b[1;32m    464\u001b[0m         \u001b[0;32melse\u001b[0m\u001b[0;34m:\u001b[0m\u001b[0;34m\u001b[0m\u001b[0;34m\u001b[0m\u001b[0m\n",
      "\u001b[0;32m~/opt/anaconda3/lib/python3.9/http/client.py\u001b[0m in \u001b[0;36mreadinto\u001b[0;34m(self, b)\u001b[0m\n\u001b[1;32m    504\u001b[0m         \u001b[0;31m# connection, and the user is reading more bytes than will be provided\u001b[0m\u001b[0;34m\u001b[0m\u001b[0;34m\u001b[0m\u001b[0m\n\u001b[1;32m    505\u001b[0m         \u001b[0;31m# (for example, reading in 1k chunks)\u001b[0m\u001b[0;34m\u001b[0m\u001b[0;34m\u001b[0m\u001b[0m\n\u001b[0;32m--> 506\u001b[0;31m         \u001b[0mn\u001b[0m \u001b[0;34m=\u001b[0m \u001b[0mself\u001b[0m\u001b[0;34m.\u001b[0m\u001b[0mfp\u001b[0m\u001b[0;34m.\u001b[0m\u001b[0mreadinto\u001b[0m\u001b[0;34m(\u001b[0m\u001b[0mb\u001b[0m\u001b[0;34m)\u001b[0m\u001b[0;34m\u001b[0m\u001b[0;34m\u001b[0m\u001b[0m\n\u001b[0m\u001b[1;32m    507\u001b[0m         \u001b[0;32mif\u001b[0m \u001b[0;32mnot\u001b[0m \u001b[0mn\u001b[0m \u001b[0;32mand\u001b[0m \u001b[0mb\u001b[0m\u001b[0;34m:\u001b[0m\u001b[0;34m\u001b[0m\u001b[0;34m\u001b[0m\u001b[0m\n\u001b[1;32m    508\u001b[0m             \u001b[0;31m# Ideally, we would raise IncompleteRead if the content-length\u001b[0m\u001b[0;34m\u001b[0m\u001b[0;34m\u001b[0m\u001b[0m\n",
      "\u001b[0;32m~/opt/anaconda3/lib/python3.9/socket.py\u001b[0m in \u001b[0;36mreadinto\u001b[0;34m(self, b)\u001b[0m\n\u001b[1;32m    702\u001b[0m         \u001b[0;32mwhile\u001b[0m \u001b[0;32mTrue\u001b[0m\u001b[0;34m:\u001b[0m\u001b[0;34m\u001b[0m\u001b[0;34m\u001b[0m\u001b[0m\n\u001b[1;32m    703\u001b[0m             \u001b[0;32mtry\u001b[0m\u001b[0;34m:\u001b[0m\u001b[0;34m\u001b[0m\u001b[0;34m\u001b[0m\u001b[0m\n\u001b[0;32m--> 704\u001b[0;31m                 \u001b[0;32mreturn\u001b[0m \u001b[0mself\u001b[0m\u001b[0;34m.\u001b[0m\u001b[0m_sock\u001b[0m\u001b[0;34m.\u001b[0m\u001b[0mrecv_into\u001b[0m\u001b[0;34m(\u001b[0m\u001b[0mb\u001b[0m\u001b[0;34m)\u001b[0m\u001b[0;34m\u001b[0m\u001b[0;34m\u001b[0m\u001b[0m\n\u001b[0m\u001b[1;32m    705\u001b[0m             \u001b[0;32mexcept\u001b[0m \u001b[0mtimeout\u001b[0m\u001b[0;34m:\u001b[0m\u001b[0;34m\u001b[0m\u001b[0;34m\u001b[0m\u001b[0m\n\u001b[1;32m    706\u001b[0m                 \u001b[0mself\u001b[0m\u001b[0;34m.\u001b[0m\u001b[0m_timeout_occurred\u001b[0m \u001b[0;34m=\u001b[0m \u001b[0;32mTrue\u001b[0m\u001b[0;34m\u001b[0m\u001b[0;34m\u001b[0m\u001b[0m\n",
      "\u001b[0;32m~/opt/anaconda3/lib/python3.9/ssl.py\u001b[0m in \u001b[0;36mrecv_into\u001b[0;34m(self, buffer, nbytes, flags)\u001b[0m\n\u001b[1;32m   1239\u001b[0m                   \u001b[0;34m\"non-zero flags not allowed in calls to recv_into() on %s\"\u001b[0m \u001b[0;34m%\u001b[0m\u001b[0;34m\u001b[0m\u001b[0;34m\u001b[0m\u001b[0m\n\u001b[1;32m   1240\u001b[0m                   self.__class__)\n\u001b[0;32m-> 1241\u001b[0;31m             \u001b[0;32mreturn\u001b[0m \u001b[0mself\u001b[0m\u001b[0;34m.\u001b[0m\u001b[0mread\u001b[0m\u001b[0;34m(\u001b[0m\u001b[0mnbytes\u001b[0m\u001b[0;34m,\u001b[0m \u001b[0mbuffer\u001b[0m\u001b[0;34m)\u001b[0m\u001b[0;34m\u001b[0m\u001b[0;34m\u001b[0m\u001b[0m\n\u001b[0m\u001b[1;32m   1242\u001b[0m         \u001b[0;32melse\u001b[0m\u001b[0;34m:\u001b[0m\u001b[0;34m\u001b[0m\u001b[0;34m\u001b[0m\u001b[0m\n\u001b[1;32m   1243\u001b[0m             \u001b[0;32mreturn\u001b[0m \u001b[0msuper\u001b[0m\u001b[0;34m(\u001b[0m\u001b[0;34m)\u001b[0m\u001b[0;34m.\u001b[0m\u001b[0mrecv_into\u001b[0m\u001b[0;34m(\u001b[0m\u001b[0mbuffer\u001b[0m\u001b[0;34m,\u001b[0m \u001b[0mnbytes\u001b[0m\u001b[0;34m,\u001b[0m \u001b[0mflags\u001b[0m\u001b[0;34m)\u001b[0m\u001b[0;34m\u001b[0m\u001b[0;34m\u001b[0m\u001b[0m\n",
      "\u001b[0;32m~/opt/anaconda3/lib/python3.9/ssl.py\u001b[0m in \u001b[0;36mread\u001b[0;34m(self, len, buffer)\u001b[0m\n\u001b[1;32m   1097\u001b[0m         \u001b[0;32mtry\u001b[0m\u001b[0;34m:\u001b[0m\u001b[0;34m\u001b[0m\u001b[0;34m\u001b[0m\u001b[0m\n\u001b[1;32m   1098\u001b[0m             \u001b[0;32mif\u001b[0m \u001b[0mbuffer\u001b[0m \u001b[0;32mis\u001b[0m \u001b[0;32mnot\u001b[0m \u001b[0;32mNone\u001b[0m\u001b[0;34m:\u001b[0m\u001b[0;34m\u001b[0m\u001b[0;34m\u001b[0m\u001b[0m\n\u001b[0;32m-> 1099\u001b[0;31m                 \u001b[0;32mreturn\u001b[0m \u001b[0mself\u001b[0m\u001b[0;34m.\u001b[0m\u001b[0m_sslobj\u001b[0m\u001b[0;34m.\u001b[0m\u001b[0mread\u001b[0m\u001b[0;34m(\u001b[0m\u001b[0mlen\u001b[0m\u001b[0;34m,\u001b[0m \u001b[0mbuffer\u001b[0m\u001b[0;34m)\u001b[0m\u001b[0;34m\u001b[0m\u001b[0;34m\u001b[0m\u001b[0m\n\u001b[0m\u001b[1;32m   1100\u001b[0m             \u001b[0;32melse\u001b[0m\u001b[0;34m:\u001b[0m\u001b[0;34m\u001b[0m\u001b[0;34m\u001b[0m\u001b[0m\n\u001b[1;32m   1101\u001b[0m                 \u001b[0;32mreturn\u001b[0m \u001b[0mself\u001b[0m\u001b[0;34m.\u001b[0m\u001b[0m_sslobj\u001b[0m\u001b[0;34m.\u001b[0m\u001b[0mread\u001b[0m\u001b[0;34m(\u001b[0m\u001b[0mlen\u001b[0m\u001b[0;34m)\u001b[0m\u001b[0;34m\u001b[0m\u001b[0;34m\u001b[0m\u001b[0m\n",
      "\u001b[0;31mKeyboardInterrupt\u001b[0m: "
     ]
    }
   ],
   "source": [
    "from transformers import T5Tokenizer, T5ForConditionalGeneration\n",
    "\n",
    "model_name = \"t5-base\" # 또는 \"t5-large\",\"t5-small\"\n",
    "tokenizer = T5Tokenizer.from_pretrained(model_name, force_download=True)\n",
    "model = T5ForConditionalGeneration.from_pretrained(model_name, force_download=True)\n",
    "\n",
    "# 모델 선택\n",
    "# model_name = \"t5-large\"  \n",
    "# tokenizer = T5Tokenizer.from_pretrained(model_name)\n",
    "# model = T5ForConditionalGeneration.from_pretrained(model_name)\n",
    "\n",
    "# 긴 입력 문장\n",
    "text = \"\"\"\n",
    "자연어 처리는 인공지능의 한 분야로, 컴퓨터가 인간의 언어를 이해하고 생성할 수 있도록 돕는다. \n",
    "최근에는 딥러닝 기반의 모델들이 등장하며 자연어 처리 성능이 크게 향상되었다. \n",
    "특히, 트랜스포머 기반의 모델들은 번역, 요약, 질의응답 등의 다양한 작업에서 뛰어난 성능을 보이고 있다. \n",
    "예를 들어, BERT와 GPT 같은 모델들은 특정한 자연어 처리 작업에서 기존 모델보다 훨씬 더 뛰어난 성능을 보인다. \n",
    "\"\"\"\n",
    "\n",
    "# 입력 변환\n",
    "input_text = \"summarize: \" + text\n",
    "inputs = tokenizer(input_text, return_tensors=\"pt\", max_length=1000, truncation=True, padding=\"longest\")\n",
    "\n",
    "# 요약 생성\n",
    "summary_ids = model.generate(**inputs, max_length=1000, min_length=30, num_beams=5, early_stopping=True)\n",
    "summary = tokenizer.decode(summary_ids[0], skip_special_tokens=True, clean_up_tokenization_spaces=True)\n",
    "\n",
    "print(\"요약 결과:\", summary)\n"
   ]
  },
  {
   "cell_type": "code",
   "execution_count": 11,
   "metadata": {},
   "outputs": [
    {
     "name": "stdout",
     "output_type": "stream",
     "text": [
      "모델: t5-large\n",
      "토크나이저 vocab 크기: 32000\n"
     ]
    }
   ],
   "source": [
    "print(f\"모델: {model_name}\")\n",
    "print(f\"토크나이저 vocab 크기: {tokenizer.vocab_size}\")\n"
   ]
  },
  {
   "cell_type": "code",
   "execution_count": 6,
   "metadata": {},
   "outputs": [
    {
     "name": "stdout",
     "output_type": "stream",
     "text": [
      "Tokenized Input: [21603, 10, 3, 2, 3, 2, 3, 2, 3, 2, 3, 2, 6, 3, 2, 3, 2, 3, 2, 3, 2, 3, 2, 3, 2, 3, 2, 3, 2, 5, 3, 2, 3, 2, 3, 2, 3, 2, 3, 2, 3, 2, 3, 2, 3, 2, 3, 2, 3, 2, 5, 3, 2, 6, 3, 2, 3, 2, 3, 2, 3, 2, 6, 3, 2, 6, 3, 2, 3, 2, 3, 2, 3, 2, 3, 2, 3, 2, 3, 2, 3, 2, 5, 3, 2, 3, 2, 6, 272, 24203, 2, 350, 6383, 3, 2, 3, 2, 3, 2, 3, 2, 3, 2, 3, 2, 3, 2, 3, 2, 3, 2, 3, 2, 3, 2, 3, 2, 3, 2, 5, 1]\n"
     ]
    }
   ],
   "source": [
    "print(\"Tokenized Input:\", tokenizer.encode(input_text, truncation=True, max_length=512))"
   ]
  },
  {
   "cell_type": "code",
   "execution_count": 7,
   "metadata": {},
   "outputs": [
    {
     "name": "stdout",
     "output_type": "stream",
     "text": [
      "생성된 요약 토큰: tensor([[0, 3, 2, 3, 2, 3, 2, 3, 2, 3, 2, 3, 2, 3, 2, 3, 2, 3, 2, 3, 2, 3, 2, 3,\n",
      "         2, 3, 2, 3, 2, 3, 2, 3, 2, 3, 2, 3, 2, 3, 2, 3, 2, 3, 2, 3, 2, 5, 1]])\n",
      "디코딩된 요약: <pad> <unk> <unk> <unk> <unk> <unk> <unk> <unk> <unk> <unk> <unk> <unk> <unk> <unk> <unk> <unk> <unk> <unk> <unk> <unk> <unk> <unk> <unk>.</s>\n"
     ]
    }
   ],
   "source": [
    "print(\"생성된 요약 토큰:\", summary_ids)\n",
    "print(\"디코딩된 요약:\", tokenizer.decode(summary_ids[0]))\n"
   ]
  },
  {
   "cell_type": "code",
   "execution_count": 12,
   "metadata": {},
   "outputs": [
    {
     "name": "stdout",
     "output_type": "stream",
     "text": [
      "테스트 요약 결과: quick brown fox jumps over lazy dog.\n"
     ]
    }
   ],
   "source": [
    "test_text = \"summarize: The quick brown fox jumps over the lazy dog.\"\n",
    "inputs = tokenizer(test_text, return_tensors=\"pt\", max_length=512, truncation=True)\n",
    "summary_ids = model.generate(**inputs, max_length=50, num_beams=5, early_stopping=True)\n",
    "summary = tokenizer.decode(summary_ids[0], skip_special_tokens=True)\n",
    "\n",
    "print(\"테스트 요약 결과:\", summary)"
   ]
  },
  {
   "cell_type": "code",
   "execution_count": 19,
   "metadata": {},
   "outputs": [],
   "source": [
    "#pip install sentencepiece"
   ]
  },
  {
   "cell_type": "code",
   "execution_count": 24,
   "metadata": {},
   "outputs": [
    {
     "name": "stderr",
     "output_type": "stream",
     "text": [
      "You are using a model of type mt5 to instantiate a model of type t5. This is not supported for all configurations of models and can yield errors.\n"
     ]
    },
    {
     "name": "stdout",
     "output_type": "stream",
     "text": [
      "요약 결과: 한 분 한분의 은혜에 대해 한글 요약: 20여 년 동안 문단생활을 해온 장문 작가\n"
     ]
    }
   ],
   "source": [
    "import re\n",
    "from transformers import T5Tokenizer, T5ForConditionalGeneration\n",
    "\n",
    "# ✅ 한글 지원 모델 사용\n",
    "model_name = \"google/mt5-small\"\n",
    "tokenizer = T5Tokenizer.from_pretrained(model_name)\n",
    "model = T5ForConditionalGeneration.from_pretrained(model_name)\n",
    "\n",
    "# ✅ 긴 문장 테스트\n",
    "text = \"\"\"20여 년 동안 문단생활을 해온 장문 작가는 노동자 작가다. 오늘도 그는 인천 송도에 있는 세계문자박물관 건설 현장에서 비지땀을 흘리며 마음의 문자를 발굴해내고 있다. 매일 같이 자재를 들어 나르고 지시하며, 눈 깜짝하는 사이에 사고가 도사리고 있어 늘 긴장해야 하는 건설 현장에서 일하면서 언제 이 많은 분량의 글을 쓰며, 어떻게 이렇게 기발한 상상력으로 이런 소설을 써낼 수 있었는지가 놀랍다.\n",
    "\n",
    "장문 작가는 이미 시조시인으로 널리 알려진 분이다. 20여 년 동안 그는 여러 문학단체에서 활발히 문단 활동을 해오며 한국스토리문인협회가 주관한 스토리문학상(시조부문)을 수상하기도 했다. 그런 시조시인이 이렇게 소설을 잘 써 내리라고는 상상치 못했다. 장문 작가의 상상력은 가히 기발함을 넘어 뛰어나다고 말할 수 있다.\n",
    "\n",
    "장문 작가는 자서를 통해 “글을 쓰는 사람은 자신의 글을 끝까지 읽어주고 공감해준다면 그것은 행복이고 은혜다. 명예를 목적으로 할 필요도 없고, 더불어 행복하기에 글을 쓰는 이유다. 남들 다 은퇴한 나이에도 일하면서 소설을 쓴다는 것이 무모한 도전일 수 있지만, 그동안 필자의 시와 시조를 사랑해준 한 분 한 분의 은혜에 대해 1만분의 일이라도 갚을 길을 찾고, 언제 끝날지 모르는 코로나19 속 힘드신 분들에게 위로와 응원의 마음을 담아 이번 단편소설집 ‘끈’을 출간하게 됐다”고 책을 펴내는 마음을 피력했다.\n",
    "\"\"\"\"\"\n",
    "\n",
    "# ✅ 입력 데이터 변환 (prefix 추가)\n",
    "input_text = \"한글 요약: \" + text\n",
    "inputs = tokenizer(input_text, return_tensors=\"pt\", max_length=512, truncation=True, padding=\"longest\")\n",
    "\n",
    "# ✅ 요약 생성 (extra_id 방지 설정 추가)\n",
    "summary_ids = model.generate(\n",
    "    inputs.input_ids, \n",
    "    max_length=150, \n",
    "    min_length=30, \n",
    "    num_beams=5, \n",
    "    early_stopping=True, \n",
    "    no_repeat_ngram_size=3  # 반복되는 구절 방지\n",
    ")\n",
    "\n",
    "# ✅ 요약 결과 디코딩 후 불필요한 토큰 제거\n",
    "summary = tokenizer.decode(summary_ids[0], skip_special_tokens=True)\n",
    "summary = re.sub(r\"<extra_id_\\d+>\", \"\", summary).strip()  # 특수 토큰 제거\n",
    "summary = \" \".join(summary.split())  # 띄어쓰기 정리\n",
    "\n",
    "print(\"요약 결과:\", summary)\n"
   ]
  },
  {
   "cell_type": "code",
   "execution_count": 25,
   "metadata": {},
   "outputs": [
    {
     "data": {
      "application/vnd.jupyter.widget-view+json": {
       "model_id": "4e5d55841b8c487f9fd78e461b8f0fef",
       "version_major": 2,
       "version_minor": 0
      },
      "text/plain": [
       "config.json:   0%|          | 0.00/570 [00:00<?, ?B/s]"
      ]
     },
     "metadata": {},
     "output_type": "display_data"
    },
    {
     "data": {
      "application/vnd.jupyter.widget-view+json": {
       "model_id": "d4f411023a1649789eea0ddef88b2e3e",
       "version_major": 2,
       "version_minor": 0
      },
      "text/plain": [
       "model.safetensors:   0%|          | 0.00/440M [00:00<?, ?B/s]"
      ]
     },
     "metadata": {},
     "output_type": "display_data"
    },
    {
     "name": "stderr",
     "output_type": "stream",
     "text": [
      "Some weights of BertForSequenceClassification were not initialized from the model checkpoint at bert-base-uncased and are newly initialized: ['classifier.bias', 'classifier.weight']\n",
      "You should probably TRAIN this model on a down-stream task to be able to use it for predictions and inference.\n"
     ]
    },
    {
     "data": {
      "application/vnd.jupyter.widget-view+json": {
       "model_id": "9d4cd62123574694b3890c4bfb917d32",
       "version_major": 2,
       "version_minor": 0
      },
      "text/plain": [
       "tokenizer_config.json:   0%|          | 0.00/48.0 [00:00<?, ?B/s]"
      ]
     },
     "metadata": {},
     "output_type": "display_data"
    },
    {
     "data": {
      "application/vnd.jupyter.widget-view+json": {
       "model_id": "d1f691336f6946bbb9e3be2e74e21660",
       "version_major": 2,
       "version_minor": 0
      },
      "text/plain": [
       "vocab.txt:   0%|          | 0.00/232k [00:00<?, ?B/s]"
      ]
     },
     "metadata": {},
     "output_type": "display_data"
    },
    {
     "data": {
      "application/vnd.jupyter.widget-view+json": {
       "model_id": "3585dfc978194391947342b9378b33b6",
       "version_major": 2,
       "version_minor": 0
      },
      "text/plain": [
       "tokenizer.json:   0%|          | 0.00/466k [00:00<?, ?B/s]"
      ]
     },
     "metadata": {},
     "output_type": "display_data"
    },
    {
     "name": "stdout",
     "output_type": "stream",
     "text": [
      "SequenceClassifierOutput(loss=None, logits=tensor([[0.0864, 0.4036]], grad_fn=<AddmmBackward0>), hidden_states=None, attentions=None)\n"
     ]
    }
   ],
   "source": [
    "from transformers import AutoModelForSequenceClassification, AutoTokenizer\n",
    "\n",
    "# Hugging Face에서 모델과 토크나이저 로드\n",
    "model_name = \"bert-base-uncased\"  # 예시로 BERT 모델 사용\n",
    "model = AutoModelForSequenceClassification.from_pretrained(model_name)\n",
    "tokenizer = AutoTokenizer.from_pretrained(model_name)\n",
    "\n",
    "# 예시 텍스트 처리\n",
    "inputs = tokenizer(\"Hello, this is an example sentence.\", return_tensors=\"pt\")\n",
    "outputs = model(**inputs)\n",
    "\n",
    "print(outputs)\n"
   ]
  }
 ],
 "metadata": {
  "colab": {
   "provenance": []
  },
  "kernelspec": {
   "display_name": "Python 3 (ipykernel)",
   "language": "python",
   "name": "python3"
  },
  "language_info": {
   "codemirror_mode": {
    "name": "ipython",
    "version": 3
   },
   "file_extension": ".py",
   "mimetype": "text/x-python",
   "name": "python",
   "nbconvert_exporter": "python",
   "pygments_lexer": "ipython3",
   "version": "3.9.7"
  }
 },
 "nbformat": 4,
 "nbformat_minor": 1
}
