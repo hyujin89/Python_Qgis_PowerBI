{
 "cells": [
  {
   "cell_type": "markdown",
   "id": "2075c0e3",
   "metadata": {},
   "source": [
    "##  이미지 처리 ## \n",
    "\n",
    "무료 이미지 다운로드 사이트\n",
    "\n",
    "Pixabay: https://pixabay.com/ Unsplash: https://unsplash.com/ Pexels: https://www.pexels.com/ Freepik: https://www.freepik.com/"
   ]
  },
  {
   "cell_type": "code",
   "execution_count": 1,
   "id": "2b7445d2",
   "metadata": {},
   "outputs": [
    {
     "name": "stderr",
     "output_type": "stream",
     "text": [
      "2023-12-19 14:10:44.049615: I tensorflow/core/platform/cpu_feature_guard.cc:193] This TensorFlow binary is optimized with oneAPI Deep Neural Network Library (oneDNN) to use the following CPU instructions in performance-critical operations:  AVX2 AVX512F AVX512_VNNI FMA\n",
      "To enable them in other operations, rebuild TensorFlow with the appropriate compiler flags.\n",
      "/Users/seoghyeonjin/opt/anaconda3/lib/python3.9/site-packages/pandas/core/computation/expressions.py:21: UserWarning: Pandas requires version '2.8.0' or newer of 'numexpr' (version '2.7.3' currently installed).\n",
      "  from pandas.core.computation.check import NUMEXPR_INSTALLED\n",
      "/Users/seoghyeonjin/opt/anaconda3/lib/python3.9/site-packages/pandas/core/arrays/masked.py:62: UserWarning: Pandas requires version '1.3.4' or newer of 'bottleneck' (version '1.3.2' currently installed).\n",
      "  from pandas.core import (\n"
     ]
    }
   ],
   "source": [
    "import cv2\n",
    "import numpy as np\n",
    "import tensorflow as tf"
   ]
  },
  {
   "cell_type": "code",
   "execution_count": 2,
   "id": "a7cf7e43",
   "metadata": {},
   "outputs": [
    {
     "name": "stderr",
     "output_type": "stream",
     "text": [
      "2023-12-19 14:10:47.831550: I tensorflow/core/platform/cpu_feature_guard.cc:193] This TensorFlow binary is optimized with oneAPI Deep Neural Network Library (oneDNN) to use the following CPU instructions in performance-critical operations:  AVX2 AVX512F AVX512_VNNI FMA\n",
      "To enable them in other operations, rebuild TensorFlow with the appropriate compiler flags.\n"
     ]
    }
   ],
   "source": [
    "# 모델 로드\n",
    "model = tf.keras.applications.MobileNetV2(weights=\"imagenet\")"
   ]
  },
  {
   "cell_type": "code",
   "execution_count": 3,
   "id": "72743ec9",
   "metadata": {},
   "outputs": [],
   "source": [
    "# 이미지 로드\n",
    "image_path = \"image.jpg\"  #이미지 파일명\n",
    "\n",
    "image = cv2.imread(image_path)\n",
    "image = cv2.cvtColor(image, cv2.COLOR_BGR2RGB)\n",
    "image = cv2.resize(image, (224, 224))\n",
    "image = tf.keras.applications.mobilenet_v2.preprocess_input(image)"
   ]
  },
  {
   "cell_type": "code",
   "execution_count": 4,
   "id": "a580554b",
   "metadata": {},
   "outputs": [
    {
     "name": "stdout",
     "output_type": "stream",
     "text": [
      "1/1 [==============================] - 0s 486ms/step\n"
     ]
    }
   ],
   "source": [
    "# 모델에 입력할 형태로 변환\n",
    "image = np.expand_dims(image, axis=0)\n",
    "\n",
    "# 예측\n",
    "predictions = model.predict(image)\n",
    "\n",
    "# 예측 결과에서 가장 높은 확률의 클래스 가져오기\n",
    "decoded_predictions = tf.keras.applications.mobilenet_v2.decode_predictions(predictions)[0]\n"
   ]
  },
  {
   "cell_type": "code",
   "execution_count": 5,
   "id": "c9287aa6",
   "metadata": {},
   "outputs": [
    {
     "name": "stdout",
     "output_type": "stream",
     "text": [
      "1: tiger_cat (0.32)\n",
      "2: tabby (0.12)\n",
      "3: Egyptian_cat (0.09)\n",
      "4: lynx (0.07)\n",
      "5: snow_leopard (0.03)\n"
     ]
    }
   ],
   "source": [
    "# 결과 출력 / 확률적으로 높은 순위 내림차순\n",
    "for i, (imagenet_id, label, score) in enumerate(decoded_predictions):\n",
    "    print(f\"{i + 1}: {label} ({score:.2f})\")"
   ]
  },
  {
   "cell_type": "code",
   "execution_count": null,
   "id": "5cffc6f6",
   "metadata": {},
   "outputs": [],
   "source": [
    "# 이미지 표시\n",
    "cv2.imshow(\"Image\", cv2.cvtColor(cv2.imread(image_path), cv2.COLOR_BGR2RGB))\n",
    "cv2.waitKey(0)\n",
    "cv2.destroyAllWindows()"
   ]
  }
 ],
 "metadata": {
  "kernelspec": {
   "display_name": "Python 3 (ipykernel)",
   "language": "python",
   "name": "python3"
  },
  "language_info": {
   "codemirror_mode": {
    "name": "ipython",
    "version": 3
   },
   "file_extension": ".py",
   "mimetype": "text/x-python",
   "name": "python",
   "nbconvert_exporter": "python",
   "pygments_lexer": "ipython3",
   "version": "3.9.7"
  }
 },
 "nbformat": 4,
 "nbformat_minor": 5
}
