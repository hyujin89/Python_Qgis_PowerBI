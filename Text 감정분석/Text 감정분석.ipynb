{
 "cells": [
  {
   "cell_type": "markdown",
   "id": "835b3678",
   "metadata": {},
   "source": [
    "## Text 감정 분석 ##"
   ]
  },
  {
   "cell_type": "code",
   "execution_count": 3,
   "id": "692797e3",
   "metadata": {},
   "outputs": [
    {
     "name": "stdout",
     "output_type": "stream",
     "text": [
      "Requirement already satisfied: torch in /Users/seoghyeonjin/opt/anaconda3/lib/python3.9/site-packages (2.1.1)\n",
      "Requirement already satisfied: transformers in /Users/seoghyeonjin/opt/anaconda3/lib/python3.9/site-packages (4.35.2)\n",
      "Requirement already satisfied: PyMuPDF in /Users/seoghyeonjin/opt/anaconda3/lib/python3.9/site-packages (1.23.6)\n",
      "Requirement already satisfied: matplotlib in /Users/seoghyeonjin/opt/anaconda3/lib/python3.9/site-packages (3.4.3)\n",
      "Requirement already satisfied: filelock in /Users/seoghyeonjin/opt/anaconda3/lib/python3.9/site-packages (from torch) (3.3.1)\n",
      "Requirement already satisfied: typing-extensions in /Users/seoghyeonjin/opt/anaconda3/lib/python3.9/site-packages (from torch) (4.8.0)\n",
      "Requirement already satisfied: sympy in /Users/seoghyeonjin/opt/anaconda3/lib/python3.9/site-packages (from torch) (1.9)\n",
      "Requirement already satisfied: networkx in /Users/seoghyeonjin/opt/anaconda3/lib/python3.9/site-packages (from torch) (2.6.3)\n",
      "Requirement already satisfied: jinja2 in /Users/seoghyeonjin/opt/anaconda3/lib/python3.9/site-packages (from torch) (2.11.3)\n",
      "Requirement already satisfied: fsspec in /Users/seoghyeonjin/opt/anaconda3/lib/python3.9/site-packages (from torch) (2023.10.0)\n",
      "Requirement already satisfied: huggingface-hub<1.0,>=0.16.4 in /Users/seoghyeonjin/opt/anaconda3/lib/python3.9/site-packages (from transformers) (0.19.4)\n",
      "Requirement already satisfied: numpy>=1.17 in /Users/seoghyeonjin/opt/anaconda3/lib/python3.9/site-packages (from transformers) (1.22.4)\n",
      "Requirement already satisfied: packaging>=20.0 in /Users/seoghyeonjin/opt/anaconda3/lib/python3.9/site-packages (from transformers) (21.0)\n",
      "Requirement already satisfied: pyyaml>=5.1 in /Users/seoghyeonjin/opt/anaconda3/lib/python3.9/site-packages (from transformers) (6.0)\n",
      "Requirement already satisfied: regex!=2019.12.17 in /Users/seoghyeonjin/opt/anaconda3/lib/python3.9/site-packages (from transformers) (2023.10.3)\n",
      "Requirement already satisfied: requests in /Users/seoghyeonjin/opt/anaconda3/lib/python3.9/site-packages (from transformers) (2.31.0)\n",
      "Requirement already satisfied: tokenizers<0.19,>=0.14 in /Users/seoghyeonjin/opt/anaconda3/lib/python3.9/site-packages (from transformers) (0.15.0)\n",
      "Requirement already satisfied: safetensors>=0.3.1 in /Users/seoghyeonjin/opt/anaconda3/lib/python3.9/site-packages (from transformers) (0.4.0)\n",
      "Requirement already satisfied: tqdm>=4.27 in /Users/seoghyeonjin/opt/anaconda3/lib/python3.9/site-packages (from transformers) (4.62.3)\n",
      "Requirement already satisfied: PyMuPDFb==1.23.6 in /Users/seoghyeonjin/opt/anaconda3/lib/python3.9/site-packages (from PyMuPDF) (1.23.6)\n",
      "Requirement already satisfied: cycler>=0.10 in /Users/seoghyeonjin/opt/anaconda3/lib/python3.9/site-packages (from matplotlib) (0.10.0)\n",
      "Requirement already satisfied: kiwisolver>=1.0.1 in /Users/seoghyeonjin/opt/anaconda3/lib/python3.9/site-packages (from matplotlib) (1.3.1)\n",
      "Requirement already satisfied: pillow>=6.2.0 in /Users/seoghyeonjin/opt/anaconda3/lib/python3.9/site-packages (from matplotlib) (8.4.0)\n",
      "Requirement already satisfied: pyparsing>=2.2.1 in /Users/seoghyeonjin/opt/anaconda3/lib/python3.9/site-packages (from matplotlib) (3.0.4)\n",
      "Requirement already satisfied: python-dateutil>=2.7 in /Users/seoghyeonjin/opt/anaconda3/lib/python3.9/site-packages (from matplotlib) (2.8.2)\n",
      "Requirement already satisfied: six in /Users/seoghyeonjin/opt/anaconda3/lib/python3.9/site-packages (from cycler>=0.10->matplotlib) (1.16.0)\n",
      "Requirement already satisfied: MarkupSafe>=0.23 in /Users/seoghyeonjin/opt/anaconda3/lib/python3.9/site-packages (from jinja2->torch) (1.1.1)\n",
      "Requirement already satisfied: charset-normalizer<4,>=2 in /Users/seoghyeonjin/opt/anaconda3/lib/python3.9/site-packages (from requests->transformers) (2.0.4)\n",
      "Requirement already satisfied: idna<4,>=2.5 in /Users/seoghyeonjin/opt/anaconda3/lib/python3.9/site-packages (from requests->transformers) (3.2)\n",
      "Requirement already satisfied: urllib3<3,>=1.21.1 in /Users/seoghyeonjin/opt/anaconda3/lib/python3.9/site-packages (from requests->transformers) (1.26.7)\n",
      "Requirement already satisfied: certifi>=2017.4.17 in /Users/seoghyeonjin/opt/anaconda3/lib/python3.9/site-packages (from requests->transformers) (2021.10.8)\n",
      "Requirement already satisfied: mpmath>=0.19 in /Users/seoghyeonjin/opt/anaconda3/lib/python3.9/site-packages (from sympy->torch) (1.2.1)\n",
      "\u001b[33mDEPRECATION: pyodbc 4.0.0-unsupported has a non-standard version number. pip 24.0 will enforce this behaviour change. A possible replacement is to upgrade to a newer version of pyodbc or contact the author to suggest that they release a version with a conforming version number. Discussion can be found at https://github.com/pypa/pip/issues/12063\u001b[0m\u001b[33m\n",
      "\u001b[0mNote: you may need to restart the kernel to use updated packages.\n"
     ]
    }
   ],
   "source": [
    "pip install torch transformers PyMuPDF matplotlib #프로그램 설치"
   ]
  },
  {
   "cell_type": "markdown",
   "id": "48ca644e",
   "metadata": {},
   "source": [
    "토크나이저 적용: tokenizer를 사용하여 입력 텍스트를 토큰으로 분리하고, PyTorch 텐서로 변환합니다.\n",
    "\n",
    "모델 예측: model을 사용하여 토큰화된 텍스트에 대한 예측을 수행합니다. 모델의 출력으로는 각 클래스에 대한 로짓 값이 나오게 되어 있습니다.\n",
    "\n",
    "확률 계산: torch.nn.functional.softmax를 사용하여 로짓 값을 확률로 변환합니다. 이를 통해 각 클래스에 대한 확률값을 얻을 수 있습니다.\n",
    "\n",
    "감정 예측: torch.argmax를 사용하여 가장 높은 확률을 가진 클래스를 선택합니다. 이 클래스가 해당 텍스트의 감정을 나타냅니다.\n",
    "\n",
    "결과 반환: 함수는 예측된 감정 클래스와 각 클래스에 대한 확률값을 반환합니다"
   ]
  },
  {
   "cell_type": "code",
   "execution_count": 6,
   "id": "e1694a58",
   "metadata": {},
   "outputs": [
    {
     "name": "stderr",
     "output_type": "stream",
     "text": [
      "Some weights of BertForSequenceClassification were not initialized from the model checkpoint at monologg/kobert and are newly initialized: ['classifier.weight', 'classifier.bias']\n",
      "You should probably TRAIN this model on a down-stream task to be able to use it for predictions and inference.\n"
     ]
    },
    {
     "name": "stdout",
     "output_type": "stream",
     "text": [
      "감정: 부정\n",
      "감정 확률: [0.6215723156929016, 0.3784276843070984]\n"
     ]
    },
    {
     "data": {
      "image/png": "[encoded data removed]",
      "text/plain": [
       "<Figure size 432x288 with 1 Axes>"
      ]
     },
     "metadata": {
      "needs_background": "light"
     },
     "output_type": "display_data"
    }
   ],
   "source": [
    "import torch\n",
    "from transformers import BertTokenizer, BertForSequenceClassification\n",
    "import fitz  # PyMuPDF\n",
    "import matplotlib.pyplot as plt\n",
    "from matplotlib import font_manager, rc\n",
    "plt.rc('font', family='AppleGothic') # For MacOS\n",
    "plt.rcParams['axes.unicode_minus'] = False #이걸로 해야 한글이 안깨임\n",
    "\n",
    "# 한글 감정 분석 모델 로드\n",
    "model = BertForSequenceClassification.from_pretrained(\"monologg/kobert\", num_labels=2)\n",
    "tokenizer = BertTokenizer.from_pretrained(\"monologg/kobert\")\n",
    "\n",
    "# PDF 파일에서 텍스트 추출\n",
    "def extract_text_from_pdf(pdf_path):\n",
    "    doc = fitz.open(pdf_path)\n",
    "    text = \"\"\n",
    "    for page_num in range(doc.page_count):\n",
    "        page = doc[page_num]\n",
    "        text += page.get_text()\n",
    "    return text\n",
    "\n",
    "# 텍스트 감정 분석 함수\n",
    "def analyze_sentiment(text):\n",
    "    inputs = tokenizer(text, return_tensors=\"pt\")\n",
    "    outputs = model(**inputs)\n",
    "    logits = outputs.logits\n",
    "    probabilities = torch.nn.functional.softmax(logits, dim=1)\n",
    "    sentiment = torch.argmax(probabilities, dim=1).item()\n",
    "    return sentiment, probabilities.tolist()[0]\n",
    "\n",
    "# PDF 파일에서 텍스트 추출 및 감정 분석 결과 얻기\n",
    "pdf_path = \"부정글.pdf\"  # 본인의 PDF 파일 경로로 변경 #긍정글.pdf\n",
    "text_from_pdf = extract_text_from_pdf(pdf_path)\n",
    "sentiment, probabilities = analyze_sentiment(text_from_pdf)\n",
    "\n",
    "# 결과 출력\n",
    "print(f\"감정: {'긍정' if sentiment == 1 else '부정'}\")\n",
    "print(\"감정 확률:\", probabilities)\n",
    "\n",
    "# 결과 시각화\n",
    "labels = [\"부정\", \"긍정\"]\n",
    "plt.bar(labels, probabilities, color=['red', 'green'])\n",
    "plt.title('감정 분석 결과')\n",
    "plt.xlabel('감정')\n",
    "plt.ylabel('확률')\n",
    "plt.show()\n"
   ]
  },
  {
   "cell_type": "markdown",
   "id": "57f54f5b",
   "metadata": {},
   "source": [
    "주어진 감정 확률은 두 가지 클래스(부정과 긍정)에 대한 예측 확률을 나타냅니다. 예측 확률은 0에서 1까지의 범위에서 나타나며, 높은 확률은 해당 클래스에 대한 모델의 확신을 나타냅니다.\n",
    "\n",
    "주어진 감정 확률: [0.2687811851501465, 0.7312188148498535]\n",
    "\n",
    "해석은 다음과 같습니다:\n",
    "\n",
    "\"부정\" 클래스에 대한 확률: 0.2687 (26.87%)\n",
    "\"긍정\" 클래스에 대한 확률: 0.7312 (73.12%)\n",
    "이 경우, 두 클래스 중 \"긍정\" 클래스의 확률이 높으므로, 모델은 해당 텍스트를 긍정적으로 예측했습니다. 감정 분석에서는 보통 더 높은 확률을 가진 클래스를 최종 예측 클래스로 선택합니다."
   ]
  }
 ],
 "metadata": {
  "kernelspec": {
   "display_name": "Python 3 (ipykernel)",
   "language": "python",
   "name": "python3"
  },
  "language_info": {
   "codemirror_mode": {
    "name": "ipython",
    "version": 3
   },
   "file_extension": ".py",
   "mimetype": "text/x-python",
   "name": "python",
   "nbconvert_exporter": "python",
   "pygments_lexer": "ipython3",
   "version": "3.9.7"
  }
 },
 "nbformat": 4,
 "nbformat_minor": 5
}
