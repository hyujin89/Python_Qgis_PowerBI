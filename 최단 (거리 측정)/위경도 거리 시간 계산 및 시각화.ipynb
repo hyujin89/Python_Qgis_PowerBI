{
 "cells": [
  {
   "cell_type": "markdown",
   "id": "f46c88a2",
   "metadata": {},
   "source": [
    "## 위/경도 기반 거리 계산 ##\n",
    "\n",
    "- ex) 도착지 포인트 (1) : 목적지 (4)의 거리, 이동 시간 계산 (직선 거리) and folium 시각화 (Html) "
   ]
  },
  {
   "cell_type": "code",
   "execution_count": 1,
   "id": "02479e9c",
   "metadata": {},
   "outputs": [
    {
     "name": "stdout",
     "output_type": "stream",
     "text": [
      "Requirement already satisfied: geopy in /Users/seoghyeonjin/opt/anaconda3/lib/python3.9/site-packages (2.2.0)\n",
      "Requirement already satisfied: geographiclib<2,>=1.49 in /Users/seoghyeonjin/opt/anaconda3/lib/python3.9/site-packages (from geopy) (1.52)\n",
      "\u001b[33mDEPRECATION: pyodbc 4.0.0-unsupported has a non-standard version number. pip 24.0 will enforce this behaviour change. A possible replacement is to upgrade to a newer version of pyodbc or contact the author to suggest that they release a version with a conforming version number. Discussion can be found at https://github.com/pypa/pip/issues/12063\u001b[0m\u001b[33m\n",
      "\u001b[0mNote: you may need to restart the kernel to use updated packages.\n"
     ]
    }
   ],
   "source": [
    "pip install geopy"
   ]
  },
  {
   "cell_type": "code",
   "execution_count": 13,
   "id": "de6d6168",
   "metadata": {},
   "outputs": [
    {
     "name": "stdout",
     "output_type": "stream",
     "text": [
      "동탄카림점에서 흑석동점까지 거리: 36.76 km, 예상 시간: 0.61 시간\n",
      "동탄카림점에서 남부터미널점까지 거리: 32.86 km, 예상 시간: 0.55 시간\n",
      "동탄카림점에서 분당정자점까지 거리: 19.18 km, 예상 시간: 0.32 시간\n",
      "동탄카림점에서 서판교점까지 거리: 21.32 km, 예상 시간: 0.36 시간\n",
      "동탄카림점에서 번동점까지 거리: 48.06 km, 예상 시간: 0.80 시간\n",
      "동탄카림점에서 당동점까지 거리: 22.56 km, 예상 시간: 0.38 시간\n",
      " $$$ 결과 안내 $$$\n"
     ]
    }
   ],
   "source": [
    "import folium\n",
    "from geopy.distance import geodesic\n",
    "import pandas as pd\n",
    "\n",
    "def calculate_distance(start_coords, end_coords):\n",
    "    distance = geodesic(start_coords, end_coords).kilometers\n",
    "    return distance\n",
    "\n",
    "def calculate_time(distance, speed_kmph):\n",
    "    time_hours = distance / speed_kmph\n",
    "    return time_hours\n",
    "\n",
    "def plot_route_on_map(start_data, destination_data, average_speed_kmph):\n",
    "    # 지도의 중심을 출발지로 설정\n",
    "    map_center = start_data[0]\n",
    "\n",
    "    # Folium 지도 생성\n",
    "    my_map = folium.Map(location=map_center, zoom_start=7)\n",
    "\n",
    "    # 출발지에 마커 추가\n",
    "    folium.Marker(location=start_data[0], popup=f'출발지: {start_data[1]}', icon=folium.Icon(color='green')).add_to(my_map)\n",
    "\n",
    "    # 결과 데이터를 저장할 리스트\n",
    "    result_data = []\n",
    "\n",
    "    \n",
    "    \n",
    "    \n",
    "    # 여러 목적지에 마커 및 이동 경로 추가\n",
    "    for dest_coords, dest_name in destination_data:\n",
    "        # 이동 경로를 선으로 표시 (색상: 빨강)\n",
    "        folium.PolyLine([start_data[0], (dest_coords[0], dest_coords[1])], color='red').add_to(my_map)\n",
    "\n",
    "        # 거리 및 시간 계산\n",
    "        distance = calculate_distance(start_data[0], dest_coords)\n",
    "        time_hours = calculate_time(distance, average_speed_kmph)\n",
    "\n",
    "        # 도착지에 빨강색 마커 추가 및 팝업에 거리와 시간 표시\n",
    "        popup_content = f'도착지: {dest_name}\\n거리: {distance:.2f} km\\n시간: {time_hours:.2f} 시간'\n",
    "        folium.Marker(location=(dest_coords[0], dest_coords[1]), popup=popup_content, icon=folium.Icon(color='red')).add_to(my_map)\n",
    "\n",
    "        # 결과 데이터 저장\n",
    "        result_data.append({\n",
    "            '출발지': start_data[1],\n",
    "            '도착지': dest_name,\n",
    "            '거리(km)': distance,\n",
    "            '예상시간(시간)': time_hours\n",
    "        })\n",
    "        \n",
    "        \n",
    "           \n",
    "        \n",
    "        \n",
    "        print(f\"{start_data[1]}에서 {dest_name}까지 거리: {distance:.2f} km, 예상 시간: {time_hours:.2f} 시간\")\n",
    "    \n",
    "    print(' $$$ 결과 안내 $$$')\n",
    "    \n",
    "    \n",
    "    \n",
    "    # 결과 데이터를 DataFrame으로 변환\n",
    "    result_df = pd.DataFrame(result_data)\n",
    "\n",
    "    # 결과 데이터를 CSV 파일로 저장\n",
    "    result_df.to_csv('result data.csv', index=False)\n",
    "\n",
    "    # 지도를 HTML 파일로 저장 (현재 디렉토리에 'route_map.html' 파일로 저장됨)\n",
    "    my_map.save('multi_point_map.html')\n",
    "\n",
    "    \n",
    "    \n",
    "    \n",
    "    \n",
    "if __name__ == \"__main__\":\n",
    "    # CSV 파일에서 위도 경도 및 점포명 데이터 읽기\n",
    "    df = pd.read_csv('raw data.csv')             #############데이터 불러오기#############\n",
    "\n",
    "    # 출발지 좌표 및 점포명 설정 (첫 번째 행의 데이터를 출발지로 사용)\n",
    "    start_data = ((df.iloc[0]['y'], df.iloc[0]['x']), df.iloc[0]['점포명'])\n",
    "\n",
    "    # 목적지 좌표 및 점포명 데이터 생성\n",
    "    destination_data = [((row['y'], row['x']), row['점포명']) for index, row in df.iloc[1:].iterrows()]\n",
    "\n",
    "    # 차량의 평균 속도를 60km/h로 가정합니다.\n",
    "    average_speed_kmph = 60\n",
    "\n",
    "    # Folium을 사용하여 이동 경로를 지도에 표시하고 HTML 파일로 저장, 결과를 CSV 파일로 저장\n",
    "    plot_route_on_map(start_data, destination_data, average_speed_kmph)\n"
   ]
  }
 ],
 "metadata": {
  "kernelspec": {
   "display_name": "Python 3 (ipykernel)",
   "language": "python",
   "name": "python3"
  },
  "language_info": {
   "codemirror_mode": {
    "name": "ipython",
    "version": 3
   },
   "file_extension": ".py",
   "mimetype": "text/x-python",
   "name": "python",
   "nbconvert_exporter": "python",
   "pygments_lexer": "ipython3",
   "version": "3.9.7"
  }
 },
 "nbformat": 4,
 "nbformat_minor": 5
}
