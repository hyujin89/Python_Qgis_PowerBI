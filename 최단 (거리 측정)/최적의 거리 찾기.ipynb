{
 "cells": [
  {
   "cell_type": "markdown",
   "id": "86697111",
   "metadata": {},
   "source": [
    "## 위경도 기반 최단 거리 측정 ##"
   ]
  },
  {
   "cell_type": "code",
   "execution_count": 9,
   "id": "0d144f42",
   "metadata": {},
   "outputs": [
    {
     "name": "stdout",
     "output_type": "stream",
     "text": [
      "Requirement already satisfied: osmnx in /Users/seoghyeonjin/opt/anaconda3/lib/python3.9/site-packages (1.7.1)\n",
      "Requirement already satisfied: networkx in /Users/seoghyeonjin/opt/anaconda3/lib/python3.9/site-packages (2.6.3)\n",
      "Requirement already satisfied: folium in /Users/seoghyeonjin/opt/anaconda3/lib/python3.9/site-packages (0.12.1.post1)\n",
      "Requirement already satisfied: geopandas>=0.12 in /Users/seoghyeonjin/opt/anaconda3/lib/python3.9/site-packages (from osmnx) (0.14.1)\n",
      "Requirement already satisfied: numpy>=1.20 in /Users/seoghyeonjin/opt/anaconda3/lib/python3.9/site-packages (from osmnx) (1.22.4)\n",
      "Requirement already satisfied: pandas>=1.1 in /Users/seoghyeonjin/opt/anaconda3/lib/python3.9/site-packages (from osmnx) (2.1.3)\n",
      "Requirement already satisfied: requests>=2.27 in /Users/seoghyeonjin/opt/anaconda3/lib/python3.9/site-packages (from osmnx) (2.31.0)\n",
      "Requirement already satisfied: shapely>=2.0 in /Users/seoghyeonjin/opt/anaconda3/lib/python3.9/site-packages (from osmnx) (2.0.2)\n",
      "Requirement already satisfied: branca>=0.3.0 in /Users/seoghyeonjin/opt/anaconda3/lib/python3.9/site-packages (from folium) (0.5.0)\n",
      "Requirement already satisfied: jinja2>=2.9 in /Users/seoghyeonjin/opt/anaconda3/lib/python3.9/site-packages (from folium) (2.11.3)\n",
      "Requirement already satisfied: fiona>=1.8.21 in /Users/seoghyeonjin/opt/anaconda3/lib/python3.9/site-packages (from geopandas>=0.12->osmnx) (1.8.21)\n",
      "Requirement already satisfied: packaging in /Users/seoghyeonjin/opt/anaconda3/lib/python3.9/site-packages (from geopandas>=0.12->osmnx) (21.0)\n",
      "Requirement already satisfied: pyproj>=3.3.0 in /Users/seoghyeonjin/opt/anaconda3/lib/python3.9/site-packages (from geopandas>=0.12->osmnx) (3.4.0)\n",
      "Requirement already satisfied: MarkupSafe>=0.23 in /Users/seoghyeonjin/opt/anaconda3/lib/python3.9/site-packages (from jinja2>=2.9->folium) (1.1.1)\n",
      "Requirement already satisfied: python-dateutil>=2.8.2 in /Users/seoghyeonjin/opt/anaconda3/lib/python3.9/site-packages (from pandas>=1.1->osmnx) (2.8.2)\n",
      "Requirement already satisfied: pytz>=2020.1 in /Users/seoghyeonjin/opt/anaconda3/lib/python3.9/site-packages (from pandas>=1.1->osmnx) (2021.3)\n",
      "Requirement already satisfied: tzdata>=2022.1 in /Users/seoghyeonjin/opt/anaconda3/lib/python3.9/site-packages (from pandas>=1.1->osmnx) (2023.3)\n",
      "Requirement already satisfied: charset-normalizer<4,>=2 in /Users/seoghyeonjin/opt/anaconda3/lib/python3.9/site-packages (from requests>=2.27->osmnx) (2.0.4)\n",
      "Requirement already satisfied: idna<4,>=2.5 in /Users/seoghyeonjin/opt/anaconda3/lib/python3.9/site-packages (from requests>=2.27->osmnx) (3.2)\n",
      "Requirement already satisfied: urllib3<3,>=1.21.1 in /Users/seoghyeonjin/opt/anaconda3/lib/python3.9/site-packages (from requests>=2.27->osmnx) (1.26.7)\n",
      "Requirement already satisfied: certifi>=2017.4.17 in /Users/seoghyeonjin/opt/anaconda3/lib/python3.9/site-packages (from requests>=2.27->osmnx) (2021.10.8)\n",
      "Requirement already satisfied: attrs>=17 in /Users/seoghyeonjin/opt/anaconda3/lib/python3.9/site-packages (from fiona>=1.8.21->geopandas>=0.12->osmnx) (21.2.0)\n",
      "Requirement already satisfied: click>=4.0 in /Users/seoghyeonjin/opt/anaconda3/lib/python3.9/site-packages (from fiona>=1.8.21->geopandas>=0.12->osmnx) (8.0.3)\n",
      "Requirement already satisfied: cligj>=0.5 in /Users/seoghyeonjin/opt/anaconda3/lib/python3.9/site-packages (from fiona>=1.8.21->geopandas>=0.12->osmnx) (0.7.2)\n",
      "Requirement already satisfied: click-plugins>=1.0 in /Users/seoghyeonjin/opt/anaconda3/lib/python3.9/site-packages (from fiona>=1.8.21->geopandas>=0.12->osmnx) (1.1.1)\n",
      "Requirement already satisfied: six>=1.7 in /Users/seoghyeonjin/opt/anaconda3/lib/python3.9/site-packages (from fiona>=1.8.21->geopandas>=0.12->osmnx) (1.16.0)\n",
      "Requirement already satisfied: munch in /Users/seoghyeonjin/opt/anaconda3/lib/python3.9/site-packages (from fiona>=1.8.21->geopandas>=0.12->osmnx) (2.5.0)\n",
      "Requirement already satisfied: setuptools in /Users/seoghyeonjin/opt/anaconda3/lib/python3.9/site-packages (from fiona>=1.8.21->geopandas>=0.12->osmnx) (58.0.4)\n",
      "Requirement already satisfied: pyparsing>=2.0.2 in /Users/seoghyeonjin/opt/anaconda3/lib/python3.9/site-packages (from packaging->geopandas>=0.12->osmnx) (3.0.4)\n",
      "\u001b[33mDEPRECATION: pyodbc 4.0.0-unsupported has a non-standard version number. pip 24.0 will enforce this behaviour change. A possible replacement is to upgrade to a newer version of pyodbc or contact the author to suggest that they release a version with a conforming version number. Discussion can be found at https://github.com/pypa/pip/issues/12063\u001b[0m\u001b[33m\n",
      "\u001b[0mNote: you may need to restart the kernel to use updated packages.\n"
     ]
    }
   ],
   "source": [
    "pip install osmnx networkx folium #모듈 설치\n",
    "pip install geopy #모듈 설치"
   ]
  },
  {
   "cell_type": "code",
   "execution_count": 5,
   "id": "50bee148",
   "metadata": {},
   "outputs": [],
   "source": [
    "import pandas as pd\n",
    "from geopy.distance import geodesic\n",
    "import matplotlib.pyplot as plt\n",
    "from matplotlib import font_manager, rc\n",
    "plt.rc('font', family='AppleGothic') # For MacOS\n",
    "plt.rcParams['axes.unicode_minus'] = False #이걸로 해야 한글이 안깨임"
   ]
  },
  {
   "cell_type": "markdown",
   "id": "6384eee0",
   "metadata": {},
   "source": [
    "## 여러개의 Dot 중 가장 가까운 Dot를 찾고 거리 계산 ##"
   ]
  },
  {
   "cell_type": "code",
   "execution_count": 6,
   "id": "2d27411b",
   "metadata": {},
   "outputs": [
    {
     "name": "stdout",
     "output_type": "stream",
     "text": [
      "최적의 거리를 가진 행 쌍: (1, 2)\n",
      "최적의 거리: 2.5252184555727664 킬로미터\n",
      "최적의 거리를 가진 두 지점의 점포명: 광화문시대점, 동대사랑점\n"
     ]
    },
    {
     "data": {
      "image/png": "[encoded data removed]",
      "text/plain": [
       "<Figure size 432x288 with 1 Axes>"
      ]
     },
     "metadata": {
      "needs_background": "light"
     },
     "output_type": "display_data"
    }
   ],
   "source": [
    "import pandas as pd\n",
    "from geopy.distance import geodesic\n",
    "import matplotlib.pyplot as plt\n",
    "\n",
    "# CSV 파일에서 데이터 읽기 (파일 이름을 적절히 수정하세요)\n",
    "file_path = '위경도sample.csv'\n",
    "data = pd.read_csv(file_path)\n",
    "\n",
    "# 좌표 간 거리 계산 함수\n",
    "def calculate_distance(coord1, coord2):\n",
    "    return geodesic(coord1, coord2).kilometers\n",
    "\n",
    "# 최적의 거리 계산 함수\n",
    "def find_optimal_distance(data):\n",
    "    optimal_distance = float('inf')  # 무한대로 초기화\n",
    "    optimal_pair = None\n",
    "\n",
    "    for i in range(len(data)):\n",
    "        for j in range(i + 1, len(data)):\n",
    "            coord1 = (data['위도'][i], data['경도'][i])\n",
    "            coord2 = (data['위도'][j], data['경도'][j])\n",
    "            distance = calculate_distance(coord1, coord2)\n",
    "\n",
    "            # 최적의 거리인 경우 업데이트\n",
    "            if distance < optimal_distance:\n",
    "                optimal_distance = distance\n",
    "                optimal_pair = (i + 1, j + 1)  # 1부터 시작하는 행 번호로 표시\n",
    "\n",
    "    return optimal_pair, optimal_distance\n",
    "\n",
    "# 최적의 거리 찾기\n",
    "optimal_pair, optimal_distance = find_optimal_distance(data)\n",
    "\n",
    "# 결과 출력\n",
    "print(f\"최적의 거리를 가진 행 쌍: {optimal_pair}\")\n",
    "print(f\"최적의 거리: {optimal_distance} 킬로미터\")\n",
    "\n",
    "# 최적의 거리 두 지점의 점포명 표시\n",
    "store_name1 = data['점포명'][optimal_pair[0] - 1]\n",
    "store_name2 = data['점포명'][optimal_pair[1] - 1]\n",
    "print(f\"최적의 거리를 가진 두 지점의 점포명: {store_name1}, {store_name2}\")\n",
    "\n",
    "# 시각화\n",
    "coord1 = (data['위도'][optimal_pair[0] - 1], data['경도'][optimal_pair[0] - 1])\n",
    "coord2 = (data['위도'][optimal_pair[1] - 1], data['경도'][optimal_pair[1] - 1])\n",
    "\n",
    "plt.scatter(data['경도'], data['위도'], label='전체 데이터')\n",
    "plt.scatter([coord1[1], coord2[1]], [coord1[0], coord2[0]], color='red', label='최적의 거리')\n",
    "plt.xlabel('경도')\n",
    "plt.ylabel('위도')\n",
    "plt.title('좌표 시각화 및 최적의 거리 표시')\n",
    "plt.legend()\n",
    "plt.show()\n"
   ]
  },
  {
   "cell_type": "markdown",
   "id": "3298702a",
   "metadata": {},
   "source": [
    "## 지도에 표시하고 저장 (직선 거리 표시) ##"
   ]
  },
  {
   "cell_type": "code",
   "execution_count": 4,
   "id": "1ac7f60d",
   "metadata": {},
   "outputs": [],
   "source": [
    "import pandas as pd\n",
    "from geopy.distance import geodesic\n",
    "import folium\n",
    "\n",
    "# CSV 파일에서 데이터 읽기 (파일 이름을 적절히 수정하세요)\n",
    "file_path = '위경도sample.csv'\n",
    "data = pd.read_csv(file_path)\n",
    "\n",
    "# 좌표 간 거리 계산 함수\n",
    "def calculate_distance(coord1, coord2):\n",
    "    return geodesic(coord1, coord2).kilometers\n",
    "\n",
    "# 최적의 거리 계산 함수\n",
    "def find_optimal_distance(data):\n",
    "    optimal_distance = float('inf')  # 무한대로 초기화\n",
    "    optimal_pair = None\n",
    "\n",
    "    for i in range(len(data)):\n",
    "        for j in range(i + 1, len(data)):\n",
    "            coord1 = (data['위도'][i], data['경도'][i])\n",
    "            coord2 = (data['위도'][j], data['경도'][j])\n",
    "            distance = calculate_distance(coord1, coord2)\n",
    "\n",
    "            # 최적의 거리인 경우 업데이트\n",
    "            if distance < optimal_distance:\n",
    "                optimal_distance = distance\n",
    "                optimal_pair = (i + 1, j + 1)  # 1부터 시작하는 행 번호로 표시\n",
    "\n",
    "    return optimal_pair, optimal_distance\n",
    "\n",
    "# 최적의 거리 찾기\n",
    "optimal_pair, optimal_distance = find_optimal_distance(data)\n",
    "\n",
    "# 최적의 거리 두 지점의 좌표 및 점포명\n",
    "coord1 = (data['위도'][optimal_pair[0] - 1], data['경도'][optimal_pair[0] - 1])\n",
    "coord2 = (data['위도'][optimal_pair[1] - 1], data['경도'][optimal_pair[1] - 1])\n",
    "store_name1 = data['점포명'][optimal_pair[0] - 1]\n",
    "store_name2 = data['점포명'][optimal_pair[1] - 1]\n",
    "\n",
    "# 지도 생성\n",
    "m = folium.Map(location=[(coord1[0] + coord2[0]) / 2, (coord1[1] + coord2[1]) / 2], zoom_start=10)\n",
    "\n",
    "# 최적의 거리 두 지점에 마커 추가\n",
    "folium.Marker(location=[coord1[0], coord1[1]], popup=store_name1).add_to(m)\n",
    "folium.Marker(location=[coord2[0], coord2[1]], popup=store_name2).add_to(m)\n",
    "\n",
    "# 최적의 거리를 나타내는 선 추가\n",
    "folium.PolyLine([coord1, coord2], color='red', weight=2.5, opacity=1).add_to(m)\n",
    "\n",
    "# 지도를 HTML 파일로 저장\n",
    "m.save('map_직선 거리 표시.html')"
   ]
  },
  {
   "cell_type": "markdown",
   "id": "21f8ac88",
   "metadata": {},
   "source": [
    "## 모든 점들의 지도 표시와 중앙에 거리 계산 ##"
   ]
  },
  {
   "cell_type": "code",
   "execution_count": 3,
   "id": "66619347",
   "metadata": {},
   "outputs": [],
   "source": [
    "import pandas as pd\n",
    "from geopy.distance import geodesic\n",
    "import folium\n",
    "\n",
    "# CSV 파일에서 데이터 읽기 (파일 이름을 적절히 수정하세요)\n",
    "file_path = '위경도sample.csv'\n",
    "data = pd.read_csv(file_path)\n",
    "\n",
    "# 좌표 간 거리 계산 함수\n",
    "def calculate_distance(coord1, coord2):\n",
    "    return geodesic(coord1, coord2).kilometers\n",
    "\n",
    "# 전체 점들의 거리 합산 함수\n",
    "def calculate_total_distance(data):\n",
    "    total_distance = 0\n",
    "\n",
    "    for i in range(len(data)):\n",
    "        for j in range(i + 1, len(data)):\n",
    "            coord1 = (data['위도'][i], data['경도'][i])\n",
    "            coord2 = (data['위도'][j], data['경도'][j])\n",
    "            distance = calculate_distance(coord1, coord2)\n",
    "            total_distance += distance\n",
    "\n",
    "    return total_distance\n",
    "\n",
    "# 전체 점들의 거리 합산 계산\n",
    "total_distance = calculate_total_distance(data)\n",
    "\n",
    "# 지도 생성\n",
    "m = folium.Map(location=[data['위도'].mean(), data['경도'].mean()], zoom_start=10)\n",
    "\n",
    "# 전체 점에 마커 추가\n",
    "for i, row in data.iterrows():\n",
    "    folium.Marker(location=[row['위도'], row['경도']], popup=row['점포명']).add_to(m)\n",
    "\n",
    "# 전체 점들의 거리 합산을 지도에 표시\n",
    "folium.Marker(location=[data['위도'].mean(), data['경도'].mean()],\n",
    "              popup=f'Total Distance: {total_distance:.2f} km',\n",
    "              icon=folium.Icon(color='red')).add_to(m)\n",
    "\n",
    "# 지도를 HTML 파일로 저장\n",
    "m.save('map_total_거리.html')"
   ]
  },
  {
   "cell_type": "markdown",
   "id": "c517ab46",
   "metadata": {},
   "source": [
    "## 모든 점들의 지도 표시와 중앙에 거리 계산 (직선 거리 표시) ##"
   ]
  },
  {
   "cell_type": "code",
   "execution_count": 2,
   "id": "17c4c0d1",
   "metadata": {},
   "outputs": [],
   "source": [
    "import pandas as pd\n",
    "from geopy.distance import geodesic\n",
    "import folium\n",
    "\n",
    "# CSV 파일에서 데이터 읽기 (파일 이름을 적절히 수정하세요)\n",
    "file_path = '위경도sample.csv'\n",
    "data = pd.read_csv(file_path)\n",
    "\n",
    "# 좌표 간 거리 계산 함수\n",
    "def calculate_distance(coord1, coord2):\n",
    "    return geodesic(coord1, coord2).kilometers\n",
    "\n",
    "# 전체 점들의 거리 합산 함수\n",
    "def calculate_total_distance(data):\n",
    "    total_distance = 0\n",
    "\n",
    "    for i in range(len(data)):\n",
    "        for j in range(i + 1, len(data)):\n",
    "            coord1 = (data['위도'][i], data['경도'][i])\n",
    "            coord2 = (data['위도'][j], data['경도'][j])\n",
    "            distance = calculate_distance(coord1, coord2)\n",
    "            total_distance += distance\n",
    "\n",
    "    return total_distance\n",
    "\n",
    "# 전체 점들의 거리 합산 계산\n",
    "total_distance = calculate_total_distance(data)\n",
    "\n",
    "# 지도 생성\n",
    "m = folium.Map(location=[data['위도'].mean(), data['경도'].mean()], zoom_start=10)\n",
    "\n",
    "# 전체 점에 마커 추가\n",
    "for i, row in data.iterrows():\n",
    "    folium.Marker(location=[row['위도'], row['경도']], popup=row['점포명']).add_to(m)\n",
    "\n",
    "# 전체 점들을 선으로 연결\n",
    "for i in range(len(data) - 1):\n",
    "    coord1 = (data['위도'][i], data['경도'][i])\n",
    "    coord2 = (data['위도'][i + 1], data['경도'][i + 1])\n",
    "    folium.PolyLine([coord1, coord2], color='blue').add_to(m)\n",
    "\n",
    "# 마지막 점과 첫 번째 점을 선으로 연결\n",
    "coord1 = (data['위도'].iloc[-1], data['경도'].iloc[-1])\n",
    "coord2 = (data['위도'].iloc[0], data['경도'].iloc[0])\n",
    "folium.PolyLine([coord1, coord2], color='blue').add_to(m)\n",
    "\n",
    "# 전체 점들의 거리 합산을 지도에 표시\n",
    "folium.Marker(location=[data['위도'].mean(), data['경도'].mean()],\n",
    "              popup=f'Total Distance: {total_distance:.2f} km',\n",
    "              icon=folium.Icon(color='red')).add_to(m)\n",
    "\n",
    "# 지도를 HTML 파일로 저장\n",
    "m.save('map_total_line거리.html')\n"
   ]
  }
 ],
 "metadata": {
  "kernelspec": {
   "display_name": "Python 3 (ipykernel)",
   "language": "python",
   "name": "python3"
  },
  "language_info": {
   "codemirror_mode": {
    "name": "ipython",
    "version": 3
   },
   "file_extension": ".py",
   "mimetype": "text/x-python",
   "name": "python",
   "nbconvert_exporter": "python",
   "pygments_lexer": "ipython3",
   "version": "3.9.7"
  }
 },
 "nbformat": 4,
 "nbformat_minor": 5
}
