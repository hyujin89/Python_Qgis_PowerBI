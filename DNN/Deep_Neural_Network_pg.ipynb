{
 "cells": [
  {
   "cell_type": "markdown",
   "metadata": {
    "executionInfo": {
     "elapsed": 9248,
     "status": "ok",
     "timestamp": 1737789375472,
     "user": {
      "displayName": "chioh song",
      "userId": "05482793768581925652"
     },
     "user_tz": -540
    },
    "id": "VOVn2HmKTS18"
   },
   "source": [
    "# DNN Deep Neural Network"
   ]
  },
  {
   "cell_type": "code",
   "execution_count": 1,
   "metadata": {
    "executionInfo": {
     "elapsed": 20414,
     "status": "ok",
     "timestamp": 1737785766141,
     "user": {
      "displayName": "chioh song",
      "userId": "05482793768581925652"
     },
     "user_tz": -540
    },
    "id": "ue4h_ufID4qs"
   },
   "outputs": [
    {
     "name": "stderr",
     "output_type": "stream",
     "text": [
      "2025-01-30 21:14:45.622973: I tensorflow/core/platform/cpu_feature_guard.cc:193] This TensorFlow binary is optimized with oneAPI Deep Neural Network Library (oneDNN) to use the following CPU instructions in performance-critical operations:  AVX2 FMA\n",
      "To enable them in other operations, rebuild TensorFlow with the appropriate compiler flags.\n"
     ]
    }
   ],
   "source": [
    "import tensorflow as tf\n",
    "from tensorflow.keras import layers, models, optimizers, losses\n",
    "# tensorflow.keras 딥러닝 keras 활용\n",
    "from sklearn.metrics import accuracy_score, precision_score, recall_score, f1_score\n",
    "from sklearn.model_selection import train_test_split\n",
    "\n",
    "import numpy as np\n",
    "import pandas as pd\n",
    "import matplotlib.pyplot as plt\n",
    "\n",
    "device = '/gpu:0' if tf.config.list_physical_devices('GPU') else '/cpu:0'\n",
    "# gpu를 활용할지 cpu를 활용할지 선택"
   ]
  },
  {
   "cell_type": "code",
   "execution_count": 2,
   "metadata": {
    "colab": {
     "base_uri": "https://localhost:8080/"
    },
    "executionInfo": {
     "elapsed": 522,
     "status": "ok",
     "timestamp": 1737788384364,
     "user": {
      "displayName": "chioh song",
      "userId": "05482793768581925652"
     },
     "user_tz": -540
    },
    "id": "F3KE93UhQlly",
    "outputId": "c0a4ef1a-ad41-42aa-ed3a-757d73673f03"
   },
   "outputs": [
    {
     "data": {
      "text/plain": [
       "[]"
      ]
     },
     "execution_count": 2,
     "metadata": {},
     "output_type": "execute_result"
    }
   ],
   "source": [
    "tf.config.list_physical_devices('GPU')"
   ]
  },
  {
   "cell_type": "code",
   "execution_count": 3,
   "metadata": {
    "colab": {
     "base_uri": "https://localhost:8080/",
     "height": 36
    },
    "executionInfo": {
     "elapsed": 286,
     "status": "ok",
     "timestamp": 1737788367769,
     "user": {
      "displayName": "chioh song",
      "userId": "05482793768581925652"
     },
     "user_tz": -540
    },
    "id": "GmwOA6PMQhO0",
    "outputId": "4be618fb-9905-45f2-a571-24ca4d0c9067"
   },
   "outputs": [
    {
     "data": {
      "text/plain": [
       "'/cpu:0'"
      ]
     },
     "execution_count": 3,
     "metadata": {},
     "output_type": "execute_result"
    }
   ],
   "source": [
    "device"
   ]
  },
  {
   "cell_type": "code",
   "execution_count": 4,
   "metadata": {
    "colab": {
     "base_uri": "https://localhost:8080/",
     "height": 443
    },
    "executionInfo": {
     "elapsed": 287,
     "status": "ok",
     "timestamp": 1737789381579,
     "user": {
      "displayName": "chioh song",
      "userId": "05482793768581925652"
     },
     "user_tz": -540
    },
    "id": "zuIFWiESD4qu",
    "outputId": "fb69374a-b7dc-4750-cd73-f9dca23b2904"
   },
   "outputs": [
    {
     "data": {
      "text/html": [
       "<div>\n",
       "<style scoped>\n",
       "    .dataframe tbody tr th:only-of-type {\n",
       "        vertical-align: middle;\n",
       "    }\n",
       "\n",
       "    .dataframe tbody tr th {\n",
       "        vertical-align: top;\n",
       "    }\n",
       "\n",
       "    .dataframe thead th {\n",
       "        text-align: right;\n",
       "    }\n",
       "</style>\n",
       "<table border=\"1\" class=\"dataframe\">\n",
       "  <thead>\n",
       "    <tr style=\"text-align: right;\">\n",
       "      <th></th>\n",
       "      <th>Pregnancies</th>\n",
       "      <th>Glucose</th>\n",
       "      <th>BloodPressure</th>\n",
       "      <th>SkinThickness</th>\n",
       "      <th>Insulin</th>\n",
       "      <th>BMI</th>\n",
       "      <th>DiabetesPedigreeFunction</th>\n",
       "      <th>Age</th>\n",
       "      <th>Outcome</th>\n",
       "    </tr>\n",
       "  </thead>\n",
       "  <tbody>\n",
       "    <tr>\n",
       "      <th>0</th>\n",
       "      <td>6</td>\n",
       "      <td>148</td>\n",
       "      <td>72</td>\n",
       "      <td>35</td>\n",
       "      <td>0</td>\n",
       "      <td>33.6</td>\n",
       "      <td>0.627</td>\n",
       "      <td>50</td>\n",
       "      <td>1</td>\n",
       "    </tr>\n",
       "    <tr>\n",
       "      <th>1</th>\n",
       "      <td>1</td>\n",
       "      <td>85</td>\n",
       "      <td>66</td>\n",
       "      <td>29</td>\n",
       "      <td>0</td>\n",
       "      <td>26.6</td>\n",
       "      <td>0.351</td>\n",
       "      <td>31</td>\n",
       "      <td>0</td>\n",
       "    </tr>\n",
       "    <tr>\n",
       "      <th>2</th>\n",
       "      <td>8</td>\n",
       "      <td>183</td>\n",
       "      <td>64</td>\n",
       "      <td>0</td>\n",
       "      <td>0</td>\n",
       "      <td>23.3</td>\n",
       "      <td>0.672</td>\n",
       "      <td>32</td>\n",
       "      <td>1</td>\n",
       "    </tr>\n",
       "    <tr>\n",
       "      <th>3</th>\n",
       "      <td>1</td>\n",
       "      <td>89</td>\n",
       "      <td>66</td>\n",
       "      <td>23</td>\n",
       "      <td>94</td>\n",
       "      <td>28.1</td>\n",
       "      <td>0.167</td>\n",
       "      <td>21</td>\n",
       "      <td>0</td>\n",
       "    </tr>\n",
       "    <tr>\n",
       "      <th>4</th>\n",
       "      <td>0</td>\n",
       "      <td>137</td>\n",
       "      <td>40</td>\n",
       "      <td>35</td>\n",
       "      <td>168</td>\n",
       "      <td>43.1</td>\n",
       "      <td>2.288</td>\n",
       "      <td>33</td>\n",
       "      <td>1</td>\n",
       "    </tr>\n",
       "    <tr>\n",
       "      <th>...</th>\n",
       "      <td>...</td>\n",
       "      <td>...</td>\n",
       "      <td>...</td>\n",
       "      <td>...</td>\n",
       "      <td>...</td>\n",
       "      <td>...</td>\n",
       "      <td>...</td>\n",
       "      <td>...</td>\n",
       "      <td>...</td>\n",
       "    </tr>\n",
       "    <tr>\n",
       "      <th>763</th>\n",
       "      <td>10</td>\n",
       "      <td>101</td>\n",
       "      <td>76</td>\n",
       "      <td>48</td>\n",
       "      <td>180</td>\n",
       "      <td>32.9</td>\n",
       "      <td>0.171</td>\n",
       "      <td>63</td>\n",
       "      <td>0</td>\n",
       "    </tr>\n",
       "    <tr>\n",
       "      <th>764</th>\n",
       "      <td>2</td>\n",
       "      <td>122</td>\n",
       "      <td>70</td>\n",
       "      <td>27</td>\n",
       "      <td>0</td>\n",
       "      <td>36.8</td>\n",
       "      <td>0.340</td>\n",
       "      <td>27</td>\n",
       "      <td>0</td>\n",
       "    </tr>\n",
       "    <tr>\n",
       "      <th>765</th>\n",
       "      <td>5</td>\n",
       "      <td>121</td>\n",
       "      <td>72</td>\n",
       "      <td>23</td>\n",
       "      <td>112</td>\n",
       "      <td>26.2</td>\n",
       "      <td>0.245</td>\n",
       "      <td>30</td>\n",
       "      <td>0</td>\n",
       "    </tr>\n",
       "    <tr>\n",
       "      <th>766</th>\n",
       "      <td>1</td>\n",
       "      <td>126</td>\n",
       "      <td>60</td>\n",
       "      <td>0</td>\n",
       "      <td>0</td>\n",
       "      <td>30.1</td>\n",
       "      <td>0.349</td>\n",
       "      <td>47</td>\n",
       "      <td>1</td>\n",
       "    </tr>\n",
       "    <tr>\n",
       "      <th>767</th>\n",
       "      <td>1</td>\n",
       "      <td>93</td>\n",
       "      <td>70</td>\n",
       "      <td>31</td>\n",
       "      <td>0</td>\n",
       "      <td>30.4</td>\n",
       "      <td>0.315</td>\n",
       "      <td>23</td>\n",
       "      <td>0</td>\n",
       "    </tr>\n",
       "  </tbody>\n",
       "</table>\n",
       "<p>768 rows × 9 columns</p>\n",
       "</div>"
      ],
      "text/plain": [
       "     Pregnancies  Glucose  BloodPressure  SkinThickness  Insulin   BMI  \\\n",
       "0              6      148             72             35        0  33.6   \n",
       "1              1       85             66             29        0  26.6   \n",
       "2              8      183             64              0        0  23.3   \n",
       "3              1       89             66             23       94  28.1   \n",
       "4              0      137             40             35      168  43.1   \n",
       "..           ...      ...            ...            ...      ...   ...   \n",
       "763           10      101             76             48      180  32.9   \n",
       "764            2      122             70             27        0  36.8   \n",
       "765            5      121             72             23      112  26.2   \n",
       "766            1      126             60              0        0  30.1   \n",
       "767            1       93             70             31        0  30.4   \n",
       "\n",
       "     DiabetesPedigreeFunction  Age  Outcome  \n",
       "0                       0.627   50        1  \n",
       "1                       0.351   31        0  \n",
       "2                       0.672   32        1  \n",
       "3                       0.167   21        0  \n",
       "4                       2.288   33        1  \n",
       "..                        ...  ...      ...  \n",
       "763                     0.171   63        0  \n",
       "764                     0.340   27        0  \n",
       "765                     0.245   30        0  \n",
       "766                     0.349   47        1  \n",
       "767                     0.315   23        0  \n",
       "\n",
       "[768 rows x 9 columns]"
      ]
     },
     "execution_count": 4,
     "metadata": {},
     "output_type": "execute_result"
    }
   ],
   "source": [
    "# 데이터 로드\n",
    "data = pd.read_csv('diabetes.csv')\n",
    "data"
   ]
  },
  {
   "cell_type": "markdown",
   "metadata": {
    "id": "bPKKMa7MD4qv"
   },
   "source": [
    "# 당뇨병\n",
    "\n",
    "- Pregnancies: 임신 횟수\n",
    "\n",
    "- Glucose: 2시간 동안의 경구 포도당 내성 검사에서의 혈당 농도\n",
    "\n",
    "- BloodPressure: 이완기 혈압 (mm Hg)\n",
    "\n",
    "- SkinThickness: 삼두근 피부 두께 (mm)\n",
    "\n",
    "- Insulin: 2시간 혈청 인슐린 (mu U/ml)\n",
    "\n",
    "- BMI: 체질량 지수 (체중(kg) / 키(m)^2)\n",
    "\n",
    "- DiabetesPedigreeFunction: 당뇨병 혈통 기능\n",
    "\n",
    "- Age: 나이 (세)\n",
    "\n",
    "\n",
    "\n",
    "- Outcome: 당뇨병 여부 (1: 당뇨병, 0: 정상) 결과값\n",
    "\n"
   ]
  },
  {
   "cell_type": "code",
   "execution_count": 6,
   "metadata": {
    "executionInfo": {
     "elapsed": 278,
     "status": "ok",
     "timestamp": 1737789385258,
     "user": {
      "displayName": "chioh song",
      "userId": "05482793768581925652"
     },
     "user_tz": -540
    },
    "id": "aBL3EayTD4qw"
   },
   "outputs": [],
   "source": [
    "# 데이터 전처리\n",
    "X = data.drop('Outcome', axis=1)\n",
    "y = data['Outcome']\n",
    "\n",
    "# 데이터 분할\n",
    "X_train, X_test, y_train, y_test = train_test_split(X, y, test_size=0.2, random_state=42)"
   ]
  },
  {
   "cell_type": "code",
   "execution_count": 7,
   "metadata": {
    "id": "lyJo69HTVAkS"
   },
   "outputs": [
    {
     "data": {
      "text/plain": [
       "0"
      ]
     },
     "execution_count": 7,
     "metadata": {},
     "output_type": "execute_result"
    }
   ],
   "source": [
    "#결측치 확인\n",
    "data.isna().sum().sum()"
   ]
  },
  {
   "cell_type": "code",
   "execution_count": 8,
   "metadata": {
    "colab": {
     "base_uri": "https://localhost:8080/"
    },
    "executionInfo": {
     "elapsed": 266,
     "status": "ok",
     "timestamp": 1737786541317,
     "user": {
      "displayName": "chioh song",
      "userId": "05482793768581925652"
     },
     "user_tz": -540
    },
    "id": "hP1rGziLD4qx",
    "outputId": "405e432d-62cd-425a-f74d-82209e5bcd42"
   },
   "outputs": [
    {
     "name": "stderr",
     "output_type": "stream",
     "text": [
      "2025-01-30 21:23:31.238276: I tensorflow/core/platform/cpu_feature_guard.cc:193] This TensorFlow binary is optimized with oneAPI Deep Neural Network Library (oneDNN) to use the following CPU instructions in performance-critical operations:  AVX2 FMA\n",
      "To enable them in other operations, rebuild TensorFlow with the appropriate compiler flags.\n"
     ]
    }
   ],
   "source": [
    "from tensorflow.keras import layers, models, optimizers, losses\n",
    "\n",
    "# Sequential 모델을 생성합니다. Sequential 모델은 층을 순차적으로 쌓을 수 있는 단순한 신경망 모델입니다.\n",
    "model = models.Sequential() # 클래스임 keras안에 하나 임\n",
    "\n",
    "# 첫 번째 Dense 층을 추가합니다. 이 층은 64개의 뉴런을 가지고 있으며, 활성화 함수로 ReLU를 사용합니다.\n",
    "# input_shape 인자는 입력 데이터의 형태를 지정합니다. 여기서는 X_train 데이터의 열 개수를 입력 형태로 지정합니다.\n",
    "model.add(layers.Dense(64, activation='relu', input_shape=(X_train.shape[1],))) \n",
    "# Dense : 히든레이어 추가하는 것 (hidden layer)\n",
    "\n",
    "# 두 번째 Dense 층을 추가합니다. 이 층은 32개의 뉴런을 가지고 있으며, 활성화 함수로 ReLU를 사용합니다.\n",
    "model.add(layers.Dense(32, activation='relu')) #64개를 만들고 32개 층을 하나 더 만들어서 촘촘히 만들어 주는 것\n",
    "\n",
    "# 세 번째 Dense 층을 추가합니다. 이 층은 1개의 뉴런을 가지고 있으며, 활성화 함수로 시그모이드를 사용합니다.\n",
    "# 이 층은 이진 분류 문제의 출력층으로 사용됩니다.\n",
    "model.add(layers.Dense(1, activation='sigmoid')) # 0~1   #출력층 마지막 결과 값이고 0,1둘중 하나만 출력되게 해주는것임 "
   ]
  },
  {
   "cell_type": "code",
   "execution_count": 9,
   "metadata": {
    "colab": {
     "base_uri": "https://localhost:8080/",
     "height": 225
    },
    "executionInfo": {
     "elapsed": 351,
     "status": "ok",
     "timestamp": 1737786571554,
     "user": {
      "displayName": "chioh song",
      "userId": "05482793768581925652"
     },
     "user_tz": -540
    },
    "id": "j8mVPfQbJmHs",
    "outputId": "88f391ea-6d5f-4961-fc85-3610052731d3"
   },
   "outputs": [
    {
     "name": "stdout",
     "output_type": "stream",
     "text": [
      "Model: \"sequential\"\n",
      "_________________________________________________________________\n",
      " Layer (type)                Output Shape              Param #   \n",
      "=================================================================\n",
      " dense (Dense)               (None, 64)                576       \n",
      "                                                                 \n",
      " dense_1 (Dense)             (None, 32)                2080      \n",
      "                                                                 \n",
      " dense_2 (Dense)             (None, 1)                 33        \n",
      "                                                                 \n",
      "=================================================================\n",
      "Total params: 2,689\n",
      "Trainable params: 2,689\n",
      "Non-trainable params: 0\n",
      "_________________________________________________________________\n"
     ]
    }
   ],
   "source": [
    "model.summary()\n",
    "\n",
    "#첫번째 64개를 만든다 none은 무엇인가? param은 뉴런\n",
    "\n",
    "# 576 파리미터가 576개를 가지고 있다 8*64+64\n",
    "# Trainable params: 2,689"
   ]
  },
  {
   "cell_type": "code",
   "execution_count": 10,
   "metadata": {
    "executionInfo": {
     "elapsed": 470,
     "status": "ok",
     "timestamp": 1737787255156,
     "user": {
      "displayName": "chioh song",
      "userId": "05482793768581925652"
     },
     "user_tz": -540
    },
    "id": "9sbsK-ALD4qx"
   },
   "outputs": [],
   "source": [
    "from tensorflow.keras import layers, models, optimizers, losses\n",
    "\n",
    "# 모델 컴파일\n",
    "model.compile(\n",
    "    optimizer=optimizers.Adam(),    #keras.optimizers.Adam 사용, 성능 값을 높이기엔 learning mate 정도 수정해주면 좋음\n",
    "    loss=losses.BinaryCrossentropy(), \n",
    "    metrics=['accuracy']\n",
    "    )\n"
   ]
  },
  {
   "cell_type": "code",
   "execution_count": 11,
   "metadata": {
    "executionInfo": {
     "elapsed": 263,
     "status": "ok",
     "timestamp": 1737789432483,
     "user": {
      "displayName": "chioh song",
      "userId": "05482793768581925652"
     },
     "user_tz": -540
    },
    "id": "1L63wmH9D4qy"
   },
   "outputs": [
    {
     "name": "stdout",
     "output_type": "stream",
     "text": [
      "Epoch 1/50\n",
      "16/16 [==============================] - 1s 12ms/step - loss: 1.8063 - accuracy: 0.5316 - val_loss: 0.6943 - val_accuracy: 0.6585\n",
      "Epoch 2/50\n",
      "16/16 [==============================] - 0s 3ms/step - loss: 0.7028 - accuracy: 0.6456 - val_loss: 0.6878 - val_accuracy: 0.6748\n",
      "Epoch 3/50\n",
      "16/16 [==============================] - 0s 3ms/step - loss: 0.6889 - accuracy: 0.6721 - val_loss: 0.6508 - val_accuracy: 0.6585\n",
      "Epoch 4/50\n",
      "16/16 [==============================] - 0s 3ms/step - loss: 0.6200 - accuracy: 0.6843 - val_loss: 0.6290 - val_accuracy: 0.6992\n",
      "Epoch 5/50\n",
      "16/16 [==============================] - 0s 3ms/step - loss: 0.6058 - accuracy: 0.6904 - val_loss: 0.6332 - val_accuracy: 0.6423\n",
      "Epoch 6/50\n",
      "16/16 [==============================] - 0s 3ms/step - loss: 0.6078 - accuracy: 0.6925 - val_loss: 0.6794 - val_accuracy: 0.6748\n",
      "Epoch 7/50\n",
      "16/16 [==============================] - 0s 3ms/step - loss: 0.6343 - accuracy: 0.6741 - val_loss: 0.6214 - val_accuracy: 0.6667\n",
      "Epoch 8/50\n",
      "16/16 [==============================] - 0s 3ms/step - loss: 0.7105 - accuracy: 0.6517 - val_loss: 0.7212 - val_accuracy: 0.6585\n",
      "Epoch 9/50\n",
      "16/16 [==============================] - 0s 3ms/step - loss: 0.6486 - accuracy: 0.6701 - val_loss: 0.6513 - val_accuracy: 0.6504\n",
      "Epoch 10/50\n",
      "16/16 [==============================] - 0s 4ms/step - loss: 0.5934 - accuracy: 0.7047 - val_loss: 0.6512 - val_accuracy: 0.6748\n",
      "Epoch 11/50\n",
      "16/16 [==============================] - 0s 4ms/step - loss: 0.6589 - accuracy: 0.6497 - val_loss: 0.6675 - val_accuracy: 0.6911\n",
      "Epoch 12/50\n",
      "16/16 [==============================] - 0s 3ms/step - loss: 0.6046 - accuracy: 0.7026 - val_loss: 0.7065 - val_accuracy: 0.6341\n",
      "Epoch 13/50\n",
      "16/16 [==============================] - 0s 3ms/step - loss: 0.5918 - accuracy: 0.6884 - val_loss: 0.5898 - val_accuracy: 0.6911\n",
      "Epoch 14/50\n",
      "16/16 [==============================] - 0s 3ms/step - loss: 0.5624 - accuracy: 0.7149 - val_loss: 0.5489 - val_accuracy: 0.7398\n",
      "Epoch 15/50\n",
      "16/16 [==============================] - 0s 3ms/step - loss: 0.5640 - accuracy: 0.7128 - val_loss: 0.5453 - val_accuracy: 0.7073\n",
      "Epoch 16/50\n",
      "16/16 [==============================] - 0s 3ms/step - loss: 0.5525 - accuracy: 0.7149 - val_loss: 0.6051 - val_accuracy: 0.6748\n",
      "Epoch 17/50\n",
      "16/16 [==============================] - 0s 3ms/step - loss: 0.5661 - accuracy: 0.6965 - val_loss: 0.6101 - val_accuracy: 0.6667\n",
      "Epoch 18/50\n",
      "16/16 [==============================] - 0s 3ms/step - loss: 0.5869 - accuracy: 0.6864 - val_loss: 0.6218 - val_accuracy: 0.6667\n",
      "Epoch 19/50\n",
      "16/16 [==============================] - 0s 3ms/step - loss: 0.5778 - accuracy: 0.6843 - val_loss: 0.5835 - val_accuracy: 0.6748\n",
      "Epoch 20/50\n",
      "16/16 [==============================] - 0s 3ms/step - loss: 0.5841 - accuracy: 0.7108 - val_loss: 0.5913 - val_accuracy: 0.6585\n",
      "Epoch 21/50\n",
      "16/16 [==============================] - 0s 4ms/step - loss: 0.5443 - accuracy: 0.6925 - val_loss: 0.6080 - val_accuracy: 0.6585\n",
      "Epoch 22/50\n",
      "16/16 [==============================] - 0s 4ms/step - loss: 0.5502 - accuracy: 0.7169 - val_loss: 0.6248 - val_accuracy: 0.6341\n",
      "Epoch 23/50\n",
      "16/16 [==============================] - 0s 4ms/step - loss: 0.5439 - accuracy: 0.7210 - val_loss: 0.5764 - val_accuracy: 0.7073\n",
      "Epoch 24/50\n",
      "16/16 [==============================] - 0s 3ms/step - loss: 0.5628 - accuracy: 0.6904 - val_loss: 0.5909 - val_accuracy: 0.7154\n",
      "Epoch 25/50\n",
      "16/16 [==============================] - 0s 3ms/step - loss: 0.5632 - accuracy: 0.7088 - val_loss: 0.5667 - val_accuracy: 0.7154\n",
      "Epoch 26/50\n",
      "16/16 [==============================] - 0s 3ms/step - loss: 0.5447 - accuracy: 0.7210 - val_loss: 0.6293 - val_accuracy: 0.6992\n",
      "Epoch 27/50\n",
      "16/16 [==============================] - 0s 3ms/step - loss: 0.5593 - accuracy: 0.6965 - val_loss: 0.6440 - val_accuracy: 0.6748\n",
      "Epoch 28/50\n",
      "16/16 [==============================] - 0s 3ms/step - loss: 0.5309 - accuracy: 0.7230 - val_loss: 0.5814 - val_accuracy: 0.6992\n",
      "Epoch 29/50\n",
      "16/16 [==============================] - 0s 3ms/step - loss: 0.5291 - accuracy: 0.7271 - val_loss: 0.5417 - val_accuracy: 0.7236\n",
      "Epoch 30/50\n",
      "16/16 [==============================] - 0s 3ms/step - loss: 0.5379 - accuracy: 0.7312 - val_loss: 0.5690 - val_accuracy: 0.6992\n",
      "Epoch 31/50\n",
      "16/16 [==============================] - 0s 3ms/step - loss: 0.5211 - accuracy: 0.7332 - val_loss: 0.5557 - val_accuracy: 0.7073\n",
      "Epoch 32/50\n",
      "16/16 [==============================] - 0s 2ms/step - loss: 0.5443 - accuracy: 0.7332 - val_loss: 0.5953 - val_accuracy: 0.7236\n",
      "Epoch 33/50\n",
      "16/16 [==============================] - 0s 3ms/step - loss: 0.5720 - accuracy: 0.6965 - val_loss: 0.5668 - val_accuracy: 0.7236\n",
      "Epoch 34/50\n",
      "16/16 [==============================] - 0s 3ms/step - loss: 0.5133 - accuracy: 0.7515 - val_loss: 0.5483 - val_accuracy: 0.7073\n",
      "Epoch 35/50\n",
      "16/16 [==============================] - 0s 3ms/step - loss: 0.5224 - accuracy: 0.7373 - val_loss: 0.5624 - val_accuracy: 0.7236\n",
      "Epoch 36/50\n",
      "16/16 [==============================] - 0s 3ms/step - loss: 0.5651 - accuracy: 0.6986 - val_loss: 0.6652 - val_accuracy: 0.6585\n",
      "Epoch 37/50\n",
      "16/16 [==============================] - 0s 4ms/step - loss: 0.6525 - accuracy: 0.6884 - val_loss: 0.5875 - val_accuracy: 0.6829\n",
      "Epoch 38/50\n",
      "16/16 [==============================] - 0s 3ms/step - loss: 0.8108 - accuracy: 0.6477 - val_loss: 0.8005 - val_accuracy: 0.5935\n",
      "Epoch 39/50\n",
      "16/16 [==============================] - 0s 3ms/step - loss: 0.6592 - accuracy: 0.6823 - val_loss: 0.6880 - val_accuracy: 0.6748\n",
      "Epoch 40/50\n",
      "16/16 [==============================] - 0s 3ms/step - loss: 0.5652 - accuracy: 0.7067 - val_loss: 0.5752 - val_accuracy: 0.7154\n",
      "Epoch 41/50\n",
      "16/16 [==============================] - 0s 3ms/step - loss: 0.5420 - accuracy: 0.7230 - val_loss: 0.5572 - val_accuracy: 0.7480\n",
      "Epoch 42/50\n",
      "16/16 [==============================] - 0s 3ms/step - loss: 0.5246 - accuracy: 0.7373 - val_loss: 0.5577 - val_accuracy: 0.7154\n",
      "Epoch 43/50\n",
      "16/16 [==============================] - 0s 3ms/step - loss: 0.5165 - accuracy: 0.7251 - val_loss: 0.5354 - val_accuracy: 0.7317\n",
      "Epoch 44/50\n",
      "16/16 [==============================] - 0s 3ms/step - loss: 0.5098 - accuracy: 0.7332 - val_loss: 0.5779 - val_accuracy: 0.6748\n",
      "Epoch 45/50\n",
      "16/16 [==============================] - 0s 3ms/step - loss: 0.5160 - accuracy: 0.7678 - val_loss: 0.5586 - val_accuracy: 0.7154\n",
      "Epoch 46/50\n",
      "16/16 [==============================] - 0s 3ms/step - loss: 0.5853 - accuracy: 0.7210 - val_loss: 0.6632 - val_accuracy: 0.6829\n",
      "Epoch 47/50\n",
      "16/16 [==============================] - 0s 3ms/step - loss: 0.6366 - accuracy: 0.7189 - val_loss: 0.6245 - val_accuracy: 0.6911\n",
      "Epoch 48/50\n",
      "16/16 [==============================] - 0s 3ms/step - loss: 0.5596 - accuracy: 0.7169 - val_loss: 0.5574 - val_accuracy: 0.7317\n",
      "Epoch 49/50\n",
      "16/16 [==============================] - 0s 3ms/step - loss: 0.5293 - accuracy: 0.7189 - val_loss: 0.5648 - val_accuracy: 0.6748\n",
      "Epoch 50/50\n",
      "16/16 [==============================] - 0s 3ms/step - loss: 0.5367 - accuracy: 0.7271 - val_loss: 0.6327 - val_accuracy: 0.6504\n"
     ]
    }
   ],
   "source": [
    "# 모델 학습\n",
    "history = model.fit(  #fit 학습\n",
    "    X_train, y_train,\n",
    "    epochs=50,  #몇번 학습할건지\n",
    "    batch_size=32,  # 32개 노드만 가져가서 값을 결정하겠다.\n",
    "    validation_split=0.2  #한번 epochs 할대 로스 등 20%정도는 놔두고 80%가지고 트레이닝하기\n",
    "    )"
   ]
  },
  {
   "cell_type": "code",
   "execution_count": 12,
   "metadata": {},
   "outputs": [
    {
     "data": {
      "text/plain": [
       "{'loss': [1.8063197135925293,\n",
       "  0.7028429508209229,\n",
       "  0.6889142394065857,\n",
       "  0.6200163960456848,\n",
       "  0.6058231592178345,\n",
       "  0.6077733039855957,\n",
       "  0.6342567205429077,\n",
       "  0.7105004191398621,\n",
       "  0.6486399173736572,\n",
       "  0.593395471572876,\n",
       "  0.6589351296424866,\n",
       "  0.6045565605163574,\n",
       "  0.5917726159095764,\n",
       "  0.5624404549598694,\n",
       "  0.5640227794647217,\n",
       "  0.5524899363517761,\n",
       "  0.5660845637321472,\n",
       "  0.5868808627128601,\n",
       "  0.5777758359909058,\n",
       "  0.584115743637085,\n",
       "  0.5442656874656677,\n",
       "  0.5502289533615112,\n",
       "  0.5439202785491943,\n",
       "  0.562792956829071,\n",
       "  0.5631653666496277,\n",
       "  0.5446870923042297,\n",
       "  0.5592881441116333,\n",
       "  0.5309140086174011,\n",
       "  0.5290952920913696,\n",
       "  0.5379041433334351,\n",
       "  0.5210719704627991,\n",
       "  0.5442959070205688,\n",
       "  0.5720254778862,\n",
       "  0.5132842063903809,\n",
       "  0.5223510265350342,\n",
       "  0.5650941729545593,\n",
       "  0.6524916887283325,\n",
       "  0.8108343482017517,\n",
       "  0.6592484712600708,\n",
       "  0.5651907324790955,\n",
       "  0.5419887900352478,\n",
       "  0.5245885848999023,\n",
       "  0.5165243744850159,\n",
       "  0.509797215461731,\n",
       "  0.5159937739372253,\n",
       "  0.5853009223937988,\n",
       "  0.6366055011749268,\n",
       "  0.5595584511756897,\n",
       "  0.5293352007865906,\n",
       "  0.5366684198379517],\n",
       " 'accuracy': [0.5315682291984558,\n",
       "  0.6456211805343628,\n",
       "  0.6720977425575256,\n",
       "  0.6843177080154419,\n",
       "  0.6904277205467224,\n",
       "  0.6924643516540527,\n",
       "  0.6741344332695007,\n",
       "  0.6517311334609985,\n",
       "  0.6700611114501953,\n",
       "  0.704684317111969,\n",
       "  0.6496945023536682,\n",
       "  0.7026476860046387,\n",
       "  0.6883910298347473,\n",
       "  0.7148675918579102,\n",
       "  0.7128309607505798,\n",
       "  0.7148675918579102,\n",
       "  0.6965376734733582,\n",
       "  0.686354398727417,\n",
       "  0.6843177080154419,\n",
       "  0.7107942700386047,\n",
       "  0.6924643516540527,\n",
       "  0.7169042825698853,\n",
       "  0.7209776043891907,\n",
       "  0.6904277205467224,\n",
       "  0.7087576389312744,\n",
       "  0.7209776043891907,\n",
       "  0.6965376734733582,\n",
       "  0.723014235496521,\n",
       "  0.7270875573158264,\n",
       "  0.7311608791351318,\n",
       "  0.7331975698471069,\n",
       "  0.7331975698471069,\n",
       "  0.6965376734733582,\n",
       "  0.7515274882316589,\n",
       "  0.7372708916664124,\n",
       "  0.6985743641853333,\n",
       "  0.6883910298347473,\n",
       "  0.6476578116416931,\n",
       "  0.6822810769081116,\n",
       "  0.7067209482192993,\n",
       "  0.723014235496521,\n",
       "  0.7372708916664124,\n",
       "  0.7250509262084961,\n",
       "  0.7331975698471069,\n",
       "  0.7678207755088806,\n",
       "  0.7209776043891907,\n",
       "  0.7189409136772156,\n",
       "  0.7169042825698853,\n",
       "  0.7189409136772156,\n",
       "  0.7270875573158264],\n",
       " 'val_loss': [0.6942757964134216,\n",
       "  0.6878204941749573,\n",
       "  0.6508426666259766,\n",
       "  0.6290310025215149,\n",
       "  0.6331608891487122,\n",
       "  0.6793690919876099,\n",
       "  0.6213672757148743,\n",
       "  0.7211549878120422,\n",
       "  0.6513444781303406,\n",
       "  0.6511986255645752,\n",
       "  0.6674649715423584,\n",
       "  0.706522524356842,\n",
       "  0.5897939801216125,\n",
       "  0.5489384531974792,\n",
       "  0.5453310012817383,\n",
       "  0.6051419377326965,\n",
       "  0.6100924611091614,\n",
       "  0.6217744946479797,\n",
       "  0.5834686756134033,\n",
       "  0.591317355632782,\n",
       "  0.6079645752906799,\n",
       "  0.6247907876968384,\n",
       "  0.5763834714889526,\n",
       "  0.590938925743103,\n",
       "  0.5666528940200806,\n",
       "  0.6293200850486755,\n",
       "  0.6440472602844238,\n",
       "  0.5813912153244019,\n",
       "  0.541694700717926,\n",
       "  0.568989098072052,\n",
       "  0.5556929111480713,\n",
       "  0.5953102707862854,\n",
       "  0.5668393969535828,\n",
       "  0.5483327507972717,\n",
       "  0.5623842477798462,\n",
       "  0.6651825904846191,\n",
       "  0.5874583125114441,\n",
       "  0.8005373477935791,\n",
       "  0.6879663467407227,\n",
       "  0.575224757194519,\n",
       "  0.5571550130844116,\n",
       "  0.5576778054237366,\n",
       "  0.5353661775588989,\n",
       "  0.5778746604919434,\n",
       "  0.5585814118385315,\n",
       "  0.663213849067688,\n",
       "  0.6245377063751221,\n",
       "  0.5574336051940918,\n",
       "  0.5648073554039001,\n",
       "  0.6326795220375061],\n",
       " 'val_accuracy': [0.6585366129875183,\n",
       "  0.6747967600822449,\n",
       "  0.6585366129875183,\n",
       "  0.6991869807243347,\n",
       "  0.642276406288147,\n",
       "  0.6747967600822449,\n",
       "  0.6666666865348816,\n",
       "  0.6585366129875183,\n",
       "  0.6504064798355103,\n",
       "  0.6747967600822449,\n",
       "  0.6910569071769714,\n",
       "  0.6341463327407837,\n",
       "  0.6910569071769714,\n",
       "  0.7398374080657959,\n",
       "  0.707317054271698,\n",
       "  0.6747967600822449,\n",
       "  0.6666666865348816,\n",
       "  0.6666666865348816,\n",
       "  0.6747967600822449,\n",
       "  0.6585366129875183,\n",
       "  0.6585366129875183,\n",
       "  0.6341463327407837,\n",
       "  0.707317054271698,\n",
       "  0.7154471278190613,\n",
       "  0.7154471278190613,\n",
       "  0.6991869807243347,\n",
       "  0.6747967600822449,\n",
       "  0.6991869807243347,\n",
       "  0.7235772609710693,\n",
       "  0.6991869807243347,\n",
       "  0.707317054271698,\n",
       "  0.7235772609710693,\n",
       "  0.7235772609710693,\n",
       "  0.707317054271698,\n",
       "  0.7235772609710693,\n",
       "  0.6585366129875183,\n",
       "  0.6829268336296082,\n",
       "  0.5934959053993225,\n",
       "  0.6747967600822449,\n",
       "  0.7154471278190613,\n",
       "  0.7479674816131592,\n",
       "  0.7154471278190613,\n",
       "  0.7317073345184326,\n",
       "  0.6747967600822449,\n",
       "  0.7154471278190613,\n",
       "  0.6829268336296082,\n",
       "  0.6910569071769714,\n",
       "  0.7317073345184326,\n",
       "  0.6747967600822449,\n",
       "  0.6504064798355103]}"
      ]
     },
     "execution_count": 12,
     "metadata": {},
     "output_type": "execute_result"
    }
   ],
   "source": [
    "history.history"
   ]
  },
  {
   "cell_type": "code",
   "execution_count": 13,
   "metadata": {
    "colab": {
     "base_uri": "https://localhost:8080/"
    },
    "executionInfo": {
     "elapsed": 275,
     "status": "ok",
     "timestamp": 1737787958432,
     "user": {
      "displayName": "chioh song",
      "userId": "05482793768581925652"
     },
     "user_tz": -540
    },
    "id": "bCOxchAcD4qy",
    "outputId": "0c5ebf02-221c-4ba6-a2c9-64311c5babac"
   },
   "outputs": [
    {
     "name": "stdout",
     "output_type": "stream",
     "text": [
      "5/5 [==============================] - 0s 1ms/step\n",
      "Accuracy: 0.6428571428571429\n",
      "Precision: 0.5\n",
      "Recall: 0.7272727272727273\n",
      "F1 Score: 0.5925925925925926\n"
     ]
    }
   ],
   "source": [
    "# 예측\n",
    "y_pred = (model.predict(X_test) > 0.5).astype(\"int32\")\n",
    "\n",
    "# 평가\n",
    "accuracy = accuracy_score(y_test, y_pred)\n",
    "precision = precision_score(y_test, y_pred)\n",
    "recall = recall_score(y_test, y_pred)\n",
    "f1 = f1_score(y_test, y_pred)\n",
    "\n",
    "print(f'Accuracy: {accuracy}')\n",
    "print(f'Precision: {precision}')\n",
    "print(f'Recall: {recall}')\n",
    "print(f'F1 Score: {f1}')\n",
    "\n"
   ]
  },
  {
   "cell_type": "code",
   "execution_count": 15,
   "metadata": {
    "executionInfo": {
     "elapsed": 458,
     "status": "ok",
     "timestamp": 1737790265686,
     "user": {
      "displayName": "chioh song",
      "userId": "05482793768581925652"
     },
     "user_tz": -540
    },
    "id": "47tu2xRSUrCy"
   },
   "outputs": [],
   "source": [
    "# Accuracy : 전체 데이터 중에서 모델이 올바르게 예측한 비율\n",
    "# prencision : 모델이 \"긍정(Positive)\" 클래스라고 예측한 것 중에서 실제로 맞은 비율, Precision이 낮다면 **False Positive (잘못된 긍정 예측)**가 많다는 의미\n",
    "# recall : 실제 \"긍정(Positive)\" 클래스 중에서 모델이 올바르게 찾아낸 비율, Recall이 높은 건 **False Negative (잘못된 부정 예측)**가 적다는 뜻\n",
    "# F1 Score : Precision과 Recall의 균형을 잡아주는 값. F1 Score가 1에 가까울수록 모델의 예측 성능이 좋다고 봄"
   ]
  },
  {
   "cell_type": "code",
   "execution_count": 39,
   "metadata": {
    "colab": {
     "base_uri": "https://localhost:8080/",
     "height": 457
    },
    "executionInfo": {
     "elapsed": 939,
     "status": "ok",
     "timestamp": 1737788018162,
     "user": {
      "displayName": "chioh song",
      "userId": "05482793768581925652"
     },
     "user_tz": -540
    },
    "id": "kH4mN7_QD4qz",
    "outputId": "823fea0f-b5bf-4a49-8ac2-a0cba5e2e6eb"
   },
   "outputs": [
    {
     "data": {
      "image/png": "[encoded data removed]",
      "text/plain": [
       "<Figure size 1200x500 with 2 Axes>"
      ]
     },
     "metadata": {},
     "output_type": "display_data"
    }
   ],
   "source": [
    "# 학습 과정에서의 손실 값과 어큐러시를 시각화합니다.\n",
    "plt.figure(figsize=(12, 5))\n",
    "\n",
    "# 손실 값 시각화\n",
    "plt.subplot(1, 2, 1)\n",
    "plt.plot(history.history['loss'], label='Training Loss')\n",
    "plt.plot(history.history['val_loss'], label='Validation Loss')\n",
    "plt.title('Model Loss')\n",
    "plt.xlabel('Epoch')\n",
    "plt.ylabel('Loss')\n",
    "plt.legend(loc='upper right')\n",
    "\n",
    "# 어큐러시 시각화\n",
    "plt.subplot(1, 2, 2)\n",
    "plt.plot(history.history['accuracy'], label='Training Accuracy')\n",
    "plt.plot(history.history['val_accuracy'], label='Validation Accuracy')\n",
    "plt.title('Model Accuracy')\n",
    "plt.xlabel('Epoch')\n",
    "plt.ylabel('Accuracy')\n",
    "plt.legend(loc='upper left')\n",
    "\n",
    "plt.show()\n",
    "\n",
    "# epoch가 증가함에 따라 loss와 accuracy가 어떻게 변하는지 보고자 하는 것\n"
   ]
  }
 ],
 "metadata": {
  "colab": {
   "provenance": []
  },
  "kernelspec": {
   "display_name": "Python 3 (ipykernel)",
   "language": "python",
   "name": "python3"
  },
  "language_info": {
   "codemirror_mode": {
    "name": "ipython",
    "version": 3
   },
   "file_extension": ".py",
   "mimetype": "text/x-python",
   "name": "python",
   "nbconvert_exporter": "python",
   "pygments_lexer": "ipython3",
   "version": "3.9.7"
  }
 },
 "nbformat": 4,
 "nbformat_minor": 1
}
