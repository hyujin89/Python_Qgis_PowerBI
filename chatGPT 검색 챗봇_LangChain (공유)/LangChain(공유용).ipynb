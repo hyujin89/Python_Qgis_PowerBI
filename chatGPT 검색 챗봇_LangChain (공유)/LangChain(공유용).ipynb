{
 "cells": [
  {
   "cell_type": "markdown",
   "id": "2f36ad8b",
   "metadata": {},
   "source": [
    "# Langchain & Python #"
   ]
  },
  {
   "cell_type": "markdown",
   "id": "460eca6b",
   "metadata": {},
   "source": [
    "https://www.itworld.co.kr/news/307189 "
   ]
  },
  {
   "cell_type": "code",
   "execution_count": 16,
   "id": "6e5518a0",
   "metadata": {},
   "outputs": [
    {
     "name": "stdout",
     "output_type": "stream",
     "text": [
      "\u001b[33mDEPRECATION: pyodbc 4.0.0-unsupported has a non-standard version number. pip 24.0 will enforce this behaviour change. A possible replacement is to upgrade to a newer version of pyodbc or contact the author to suggest that they release a version with a conforming version number. Discussion can be found at https://github.com/pypa/pip/issues/12063\u001b[0m\u001b[33m\r\n",
      "\u001b[0m"
     ]
    }
   ],
   "source": [
    "!pip install -q grobid-client langchain openai faiss-cpu PyPDF2 tiktoken"
   ]
  },
  {
   "cell_type": "code",
   "execution_count": 2,
   "id": "46813576",
   "metadata": {},
   "outputs": [
    {
     "name": "stdout",
     "output_type": "stream",
     "text": [
      "Requirement already satisfied: pip in /Users/seoghyeonjin/opt/anaconda3/lib/python3.9/site-packages (23.3.1)\n",
      "\u001b[33mDEPRECATION: pyodbc 4.0.0-unsupported has a non-standard version number. pip 24.0 will enforce this behaviour change. A possible replacement is to upgrade to a newer version of pyodbc or contact the author to suggest that they release a version with a conforming version number. Discussion can be found at https://github.com/pypa/pip/issues/12063\u001b[0m\u001b[33m\n",
      "\u001b[0mNote: you may need to restart the kernel to use updated packages.\n"
     ]
    }
   ],
   "source": [
    "pip install --upgrade pip"
   ]
  },
  {
   "cell_type": "code",
   "execution_count": 3,
   "id": "840975eb",
   "metadata": {},
   "outputs": [],
   "source": [
    "import openai\n",
    "from PyPDF2 import PdfReader\n",
    "from langchain.embeddings.openai import OpenAIEmbeddings\n",
    "from langchain.text_splitter import CharacterTextSplitter\n",
    "from langchain.vectorstores import ElasticVectorSearch, Pinecone, Weaviate, FAISS\n",
    "import os\n",
    "\n",
    "os.environ[\"OPENAI_API_KEY\"] = \"sk-I\"  #개인 gpt api\n",
    "\n",
    "#https://platform.openai.com/account/api-keys"
   ]
  },
  {
   "cell_type": "code",
   "execution_count": 4,
   "id": "8c28265d",
   "metadata": {},
   "outputs": [
    {
     "data": {
      "text/plain": [
       "'함께저희가 부부가되는 오늘 이 자리에서 부모님과 참석하신 여러분께 다음을 선약합니다신랑오늘 저 석현진은 이 시간 가장 소중하고 아름다운 장현지를 아내로 맞이합니다.현지의 아름다운 미소가 저를 설레이게 하였고서로를 바라보는 것만으로도 행복한 일임을 알게 해주었습니다.어렵고 힘든 순간이 다가올지라도언제나 기댈 수 있는 안식처가 되어 늘 곁에 있으며,현지를 영원히 사랑하며 살 것을이 자리에 계신 소중한 분들 앞에서 진심으로 서약합니다.신부오늘 저 장현지는 이 시간 가장 소중하고 멋진 석현진 남편으로 맞이합니다.기쁘고 즐거운 시간뿐만 아니라 힘들고 지칠때도 언제나 나의 곁에서 잔잔한 파도같은 사랑으로 한결같이 굳게 함께해준 당신에게 감사의 마음을 전하며 우리의 소중한 시간을 항상 기억하겠습니다.지금 이 마음 그대로 평생 함께 할 것을이 자리에 계신 소중한 분들 앞에서 진심으로 서약합니다.함께신랑 이렇게 아름다운 아내 장현지와'"
      ]
     },
     "execution_count": 4,
     "metadata": {},
     "output_type": "execute_result"
    }
   ],
   "source": [
    "reader = PdfReader(\"혼인.pdf\")\n",
    "\n",
    "raw_text = \"\"\n",
    "\n",
    "for i, page in enumerate(reader.pages):\n",
    "    text = page.extract_text()\n",
    "    if text:\n",
    "        raw_text += text\n",
    "\n",
    "raw_text[:1000]"
   ]
  },
  {
   "cell_type": "markdown",
   "id": "07d39685",
   "metadata": {},
   "source": [
    "# 챗봇 #"
   ]
  },
  {
   "cell_type": "code",
   "execution_count": 5,
   "id": "2ace1cda",
   "metadata": {},
   "outputs": [],
   "source": [
    "from langchain import OpenAI\n",
    "from langchain.chains import AnalyzeDocumentChain\n",
    "from langchain.chains.summarize import load_summarize_chain\n",
    "\n",
    "llm = OpenAI(temperature=0)\n",
    "summary_chain = load_summarize_chain(llm, chain_type=\"map_reduce\")\n",
    "\n",
    "summarize_document_chain = AnalyzeDocumentChain(combine_docs_chain=summary_chain)"
   ]
  },
  {
   "cell_type": "code",
   "execution_count": 6,
   "id": "ef5e7264",
   "metadata": {},
   "outputs": [
    {
     "data": {
      "text/plain": [
       "'\\n\\n장현진과 석현진이 오늘 부모님과 참석한 여러분 앞에서 부부가 되는 것을 선약합니다. 석현진은 장현진의 미소로 설레임을 느끼고, 기댈 수 있는 안식처가 되기를 기대합니다.'"
      ]
     },
     "execution_count": 6,
     "metadata": {},
     "output_type": "execute_result"
    }
   ],
   "source": [
    "summarize_document_chain.run(raw_text)"
   ]
  },
  {
   "cell_type": "code",
   "execution_count": 7,
   "id": "35ec26cb",
   "metadata": {},
   "outputs": [],
   "source": [
    "from langchain.chains.question_answering import load_qa_chain\n",
    "from langchain.chat_models import ChatOpenAI\n",
    "\n",
    "model = ChatOpenAI(model=\"gpt-3.5-turbo\") # gpt-3.5-turbo, gpt-4\n",
    "\n",
    "qa_chain = load_qa_chain(model, chain_type=\"map_reduce\")\n",
    "qa_document_chain = AnalyzeDocumentChain(combine_docs_chain=qa_chain)"
   ]
  },
  {
   "cell_type": "code",
   "execution_count": 8,
   "id": "455d0c4b",
   "metadata": {},
   "outputs": [
    {
     "data": {
      "text/plain": [
       "'제가 알고 있는 정보로는 장현지라는 이름을 가진 사람이 있습니다.'"
      ]
     },
     "execution_count": 8,
     "metadata": {},
     "output_type": "execute_result"
    }
   ],
   "source": [
    "qa_document_chain.run(\n",
    "    input_document=raw_text,\n",
    "    question='사람의 이름은?')"
   ]
  },
  {
   "cell_type": "code",
   "execution_count": 9,
   "id": "cbbeca16",
   "metadata": {},
   "outputs": [
    {
     "data": {
      "text/plain": [
       "'석현진이 장현지의 아름다운 미소에 반해 저를 설레이게 했다고 언급되어 있습니다.'"
      ]
     },
     "execution_count": 9,
     "metadata": {},
     "output_type": "execute_result"
    }
   ],
   "source": [
    "qa_document_chain.run(\n",
    "    input_document=raw_text,\n",
    "    question=\"석현진이 반한것은?\")"
   ]
  },
  {
   "cell_type": "code",
   "execution_count": 10,
   "id": "f119ec3b",
   "metadata": {},
   "outputs": [
    {
     "data": {
      "text/plain": [
       "'부모님과 여러분이 참석하셨습니다.'"
      ]
     },
     "execution_count": 10,
     "metadata": {},
     "output_type": "execute_result"
    }
   ],
   "source": [
    "qa_document_chain.run(\n",
    "    input_document=raw_text,\n",
    "    question=\"참석한 사람은?\")"
   ]
  },
  {
   "cell_type": "markdown",
   "id": "a154e883",
   "metadata": {},
   "source": [
    "# 분석 #"
   ]
  },
  {
   "cell_type": "code",
   "execution_count": 12,
   "id": "3f43eb27",
   "metadata": {},
   "outputs": [
    {
     "data": {
      "text/plain": [
       "<bound method DataFrame.info of      PassengerId  Pclass  Sex   Age  SibSp  Parch     Fare  Survived\n",
       "0              1       3    0  22.0      1      0   7.2500         0\n",
       "1              2       1    1  38.0      1      0  71.2833         1\n",
       "2              3       3    1  26.0      0      0   7.9250         1\n",
       "3              4       1    1  35.0      1      0  53.1000         1\n",
       "4              5       3    0  35.0      0      0   8.0500         0\n",
       "..           ...     ...  ...   ...    ...    ...      ...       ...\n",
       "886          887       2    0  27.0      0      0  13.0000         0\n",
       "887          888       1    1  19.0      0      0  30.0000         1\n",
       "888          889       3    1   NaN      1      2  23.4500         0\n",
       "889          890       1    0  26.0      0      0  30.0000         1\n",
       "890          891       3    0  32.0      0      0   7.7500         0\n",
       "\n",
       "[891 rows x 8 columns]>"
      ]
     },
     "execution_count": 12,
     "metadata": {},
     "output_type": "execute_result"
    }
   ],
   "source": [
    "import pandas as pd\n",
    "from langchain_experimental.agents.agent_toolkits import create_pandas_dataframe_agent\n",
    "#https://python.langchain.com/docs/integrations/toolkits/pandas 업데이트 확인\n",
    "#pip install tabulate 설치 테이블 (표)\n",
    "\n",
    "from langchain.chat_models import ChatOpenAI\n",
    "from langchain.agents.agent_types import AgentType\n",
    "\n",
    "df = pd.read_csv(\"train.csv\") #타이타닉 데이터 활용\n",
    "\n",
    "df.head()\n",
    "df.info"
   ]
  },
  {
   "cell_type": "code",
   "execution_count": 19,
   "id": "da205520",
   "metadata": {},
   "outputs": [
    {
     "name": "stdout",
     "output_type": "stream",
     "text": [
      "\n",
      "\n",
      "\u001b[1m> Entering new AgentExecutor chain...\u001b[0m\n",
      "\u001b[32;1m\u001b[1;3mThought: 데이터 프레임의 모든 독립변수를 분석해야 한다.\n",
      "Action: python_repl_ast\n",
      "Action Input: df.corr()\u001b[0m\n",
      "Observation: \u001b[36;1m\u001b[1;3m             PassengerId    Pclass       Sex       Age     SibSp     Parch  \\\n",
      "PassengerId     1.000000 -0.035144 -0.042939  0.036847 -0.057527 -0.001652   \n",
      "Pclass         -0.035144  1.000000 -0.131900 -0.369226  0.083081  0.018443   \n",
      "Sex            -0.042939 -0.131900  1.000000 -0.093254  0.114631  0.245489   \n",
      "Age             0.036847 -0.369226 -0.093254  1.000000 -0.308247 -0.189119   \n",
      "SibSp          -0.057527  0.083081  0.114631 -0.308247  1.000000  0.414838   \n",
      "Parch          -0.001652  0.018443  0.245489 -0.189119  0.414838  1.000000   \n",
      "Fare            0.012658 -0.549500  0.182333  0.096067  0.159651  0.216225   \n",
      "Survived       -0.005007 -0.338481  0.543351 -0.077221 -0.035322  0.081629   \n",
      "\n",
      "                 Fare  Survived  \n",
      "PassengerId  0.012658 -0.005007  \n",
      "Pclass      -0.549500 -0.338481  \n",
      "Sex          0.182333  0.543351  \n",
      "Age          0.096067 -0.077221  \n",
      "SibSp        0.159651 -0.035322  \n",
      "Parch        0.216225  0.081629  \n",
      "Fare         1.000000  0.257307  \n",
      "Survived     0.257307  1.000000  \u001b[0m\n",
      "Thought:\u001b[32;1m\u001b[1;3m 생존과 가장 관련성이 높은 독립변수는 성별이다.\n",
      "Action: python_repl_ast\n",
      "Action Input: df.plot.scatter(x='Sex', y='Survived')\u001b[0m\n",
      "Observation: \u001b[36;1m\u001b[1;3mAxesSubplot(0.125,0.125;0.775x0.755)\u001b[0m\n",
      "Thought:\u001b[32;1m\u001b[1;3m 생존과 성별의 관계를 보여주는 그래프를 만들었다.\n",
      "Final Answer: 생존에 가장 많이 영향을 미친 독립변수는 성별이며, 이를 보여주는 그래프는 위에서 만든 AxesSubplot(0.125,0.125;0.775x0.755) 입니다.\u001b[0m\n",
      "\n",
      "\u001b[1m> Finished chain.\u001b[0m\n"
     ]
    },
    {
     "data": {
      "text/plain": [
       "'생존에 가장 많이 영향을 미친 독립변수는 성별이며, 이를 보여주는 그래프는 위에서 만든 AxesSubplot(0.125,0.125;0.775x0.755) 입니다.'"
      ]
     },
     "execution_count": 19,
     "metadata": {},
     "output_type": "execute_result"
    },
    {
     "data": {
      "image/png": "[encoded data removed]",
      "text/plain": [
       "<Figure size 432x288 with 1 Axes>"
      ]
     },
     "metadata": {
      "needs_background": "light"
     },
     "output_type": "display_data"
    }
   ],
   "source": [
    "agent = create_pandas_dataframe_agent(OpenAI(temperature=0), df, verbose=True)\n",
    "agent.run(\"생존에 영향을 가장 많이준 독립변수는? 그래프\") #질문"
   ]
  },
  {
   "cell_type": "code",
   "execution_count": 20,
   "id": "f405a475",
   "metadata": {},
   "outputs": [
    {
     "name": "stdout",
     "output_type": "stream",
     "text": [
      "\n",
      "\n",
      "\u001b[1m> Entering new AgentExecutor chain...\u001b[0m\n",
      "\u001b[32;1m\u001b[1;3mThought: 랜덤포레스트는 머신러닝 모델로 데이터를 분류하기 위해 사용됩니다.\n",
      "Action: python_repl_ast\n",
      "Action Input: from sklearn.ensemble import RandomForestClassifier\u001b[0m\n",
      "Observation: \u001b[36;1m\u001b[1;3m\u001b[0m\n",
      "Thought:\u001b[32;1m\u001b[1;3m 모델을 만들기 위해 데이터를 준비해야합니다.\n",
      "Action: python_repl_ast\n",
      "Action Input: X = df.drop(['Survived'], axis=1)\u001b[0m\n",
      "Observation: \u001b[36;1m\u001b[1;3m\u001b[0m\n",
      "Thought:\u001b[32;1m\u001b[1;3m 목표 변수를 준비합니다.\n",
      "Action: python_repl_ast\n",
      "Action Input: y = df['Survived']\u001b[0m\n",
      "Observation: \u001b[36;1m\u001b[1;3m\u001b[0m\n",
      "Thought:\u001b[32;1m\u001b[1;3m 모델을 만듭니다.\n",
      "Action: python_repl_ast\n",
      "Action Input: model = RandomForestClassifier()\u001b[0m\n",
      "Observation: \u001b[36;1m\u001b[1;3m\u001b[0m\n",
      "Thought:\u001b[32;1m\u001b[1;3m 모델을 훈련합니다.\n",
      "Action: python_repl_ast\n",
      "Action Input: model.fit(X, y)\u001b[0m\n",
      "Observation: \u001b[36;1m\u001b[1;3mValueError: Input X contains NaN.\n",
      "RandomForestClassifier does not accept missing values encoded as NaN natively. For supervised learning, you might want to consider sklearn.ensemble.HistGradientBoostingClassifier and Regressor which accept missing values encoded as NaNs natively. Alternatively, it is possible to preprocess the data, for instance by using an imputer transformer in a pipeline or drop samples with missing values. See https://scikit-learn.org/stable/modules/impute.html You can find a list of all estimators that handle NaN values at the following page: https://scikit-learn.org/stable/modules/impute.html#estimators-that-handle-nan-values\u001b[0m\n",
      "Thought:\u001b[32;1m\u001b[1;3m 데이터에 누락된 값이 있으므로 먼저 누락된 값을 처리해야합니다.\n",
      "Action: python_repl_ast\n",
      "Action Input: from sklearn.impute import SimpleImputer\u001b[0m\n",
      "Observation: \u001b[36;1m\u001b[1;3m\u001b[0m\n",
      "Thought:\u001b[32;1m\u001b[1;3m 누락된 값을 처리하기 위해 SimpleImputer를 사용합니다.\n",
      "Action: python_repl_ast\n",
      "Action Input: imputer = SimpleImputer(strategy='mean')\u001b[0m\n",
      "Observation: \u001b[36;1m\u001b[1;3m\u001b[0m\n",
      "Thought:\u001b[32;1m\u001b[1;3m 누락된 값을 처리하기 위해 데이터를 변환합니다.\n",
      "Action: python_repl_ast\n",
      "Action Input: X = imputer.fit_transform(X)\u001b[0m\n",
      "Observation: \u001b[36;1m\u001b[1;3m\u001b[0m\n",
      "Thought:\u001b[32;1m\u001b[1;3m 모델을 만듭니다.\n",
      "Action: python_repl_ast\n",
      "Action Input: model = RandomForestClassifier()\u001b[0m\n",
      "Observation: \u001b[36;1m\u001b[1;3m\u001b[0m\n",
      "Thought:\u001b[32;1m\u001b[1;3m 모델을 훈련합니다.\n",
      "Action: python_repl_ast\n",
      "Action Input: model.fit(X, y)\u001b[0m\n",
      "Observation: \u001b[36;1m\u001b[1;3mRandomForestClassifier()\u001b[0m\n",
      "Thought:\u001b[32;1m\u001b[1;3m 랜덤포레스트 예측 모델 코드를 완성했습니다.\n",
      "Final Answer: from sklearn.ensemble import RandomForestClassifier\n",
      "X = df.drop(['Survived'], axis=1)\n",
      "y = df['Survived']\n",
      "from sklearn.impute import SimpleImputer\n",
      "imputer = SimpleImputer(strategy='mean')\n",
      "X = imputer.fit_transform(X)\n",
      "model = RandomForestClassifier()\n",
      "model.fit(X, y)\u001b[0m\n",
      "\n",
      "\u001b[1m> Finished chain.\u001b[0m\n"
     ]
    },
    {
     "data": {
      "text/plain": [
       "\"from sklearn.ensemble import RandomForestClassifier\\nX = df.drop(['Survived'], axis=1)\\ny = df['Survived']\\nfrom sklearn.impute import SimpleImputer\\nimputer = SimpleImputer(strategy='mean')\\nX = imputer.fit_transform(X)\\nmodel = RandomForestClassifier()\\nmodel.fit(X, y)\""
      ]
     },
     "execution_count": 20,
     "metadata": {},
     "output_type": "execute_result"
    }
   ],
   "source": [
    "agent = create_pandas_dataframe_agent(OpenAI(temperature=0), df, verbose=True)\n",
    "agent.run(\"랜덤포레스트 예측 모델 코드\") #질문"
   ]
  },
  {
   "cell_type": "code",
   "execution_count": 23,
   "id": "3b49044a",
   "metadata": {},
   "outputs": [
    {
     "name": "stdout",
     "output_type": "stream",
     "text": [
      "\n",
      "\n",
      "\u001b[1m> Entering new AgentExecutor chain...\u001b[0m\n",
      "\u001b[32;1m\u001b[1;3mThought: age와 survived 사이의 관계를 보기 위해 산점도 그래프를 그릴 필요가 있다.\n",
      "Action: python_repl_ast\n",
      "Action Input: df.plot.scatter(x='Age', y='Survived')\u001b[0m\n",
      "Observation: \u001b[36;1m\u001b[1;3mAxesSubplot(0.125,0.125;0.775x0.755)\u001b[0m\n",
      "Thought:\u001b[32;1m\u001b[1;3m 그래프가 그려졌으므로 이제 결과를 확인할 수 있다.\n",
      "Final Answer: age와 survived 사이의 관계를 보여주는 산점도 그래프가 그려졌다.\u001b[0m\n",
      "\n",
      "\u001b[1m> Finished chain.\u001b[0m\n"
     ]
    },
    {
     "data": {
      "text/plain": [
       "'age와 survived 사이의 관계를 보여주는 산점도 그래프가 그려졌다.'"
      ]
     },
     "execution_count": 23,
     "metadata": {},
     "output_type": "execute_result"
    },
    {
     "data": {
      "image/png": "[encoded data removed]",
      "text/plain": [
       "<Figure size 432x288 with 1 Axes>"
      ]
     },
     "metadata": {
      "needs_background": "light"
     },
     "output_type": "display_data"
    }
   ],
   "source": [
    "agent = create_pandas_dataframe_agent(OpenAI(temperature=0), df, verbose=True)\n",
    "agent.run(\"age 산점도 그래프\") #질문"
   ]
  }
 ],
 "metadata": {
  "kernelspec": {
   "display_name": "Python 3 (ipykernel)",
   "language": "python",
   "name": "python3"
  },
  "language_info": {
   "codemirror_mode": {
    "name": "ipython",
    "version": 3
   },
   "file_extension": ".py",
   "mimetype": "text/x-python",
   "name": "python",
   "nbconvert_exporter": "python",
   "pygments_lexer": "ipython3",
   "version": "3.9.7"
  }
 },
 "nbformat": 4,
 "nbformat_minor": 5
}
