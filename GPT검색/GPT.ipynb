{
 "cells": [
  {
   "cell_type": "markdown",
   "id": "4add74b8",
   "metadata": {},
   "source": [
    "# GPT검색 #"
   ]
  },
  {
   "cell_type": "code",
   "execution_count": null,
   "id": "d6d6235b",
   "metadata": {},
   "outputs": [],
   "source": [
    "import openai\n",
    "openai.api_key = \"개인 api\""
   ]
  },
  {
   "cell_type": "code",
   "execution_count": null,
   "id": "a9a5be4b",
   "metadata": {},
   "outputs": [
    {
     "name": "stdout",
     "output_type": "stream",
     "text": [
      "user : 얼굴 붓기 빼는 방법 5가지 알려주세요\n",
      "GPT : 얼굴 붓기를 빼는 방법은 여러 가지가 있습니다. 다음은 얼굴 붓기를 줄이는 5가지 방법입니다:\n",
      "\n",
      "1. 수분 섭취: 충분한 수분을 섭취하여 체내 물분을 조절하는 것이 중요합니다. 하루에 최소한 8잔의 물을 마시는 것이 좋습니다. 물 외에도 녹차나 허브 차 등에서도 수분을 채울 수 있습니다.\n",
      "\n",
      "2. 식이 조절: 고소금, 고당류 및 가공 식품을 피해야 합니다. 이러한 식품은 체내에 물 분자를 유지하고 부은 얼굴을 유발할 수 있습니다. 대신 신선한 과일, 야채, 채소 등 식이 섬유를 풍부하게 함께 섭취해야 합니다.\n",
      "\n",
      "3. 냉수로 세안: 세안할 때 찬 물을 사용하여 얼굴을 천천히 세안하는 것은 효과적입니다. 찬 물은 혈관을 수축시켜 염증을 줄이고 얼굴 붓기를 완화시킬 수 있습니다.\n",
      "\n",
      "4. 얼굴 마사지: 부은 얼굴을 가볍게 마사지하면 혈액순환이 촉진되어 얼굴 붓기를 줄일 수 있습니다. 마사지는 얼굴에 혈액을 공급하여 림프액의 움직임을 도와주는데 효과적입니다.\n",
      "\n",
      "5. 손가락으로 마스카라 생성: 얼굴 붓기를 줄이기 위해 올바른 마스카라를 선택하는 것도 중요합니다. 마스카라를 적절히 사용하면 눈가를 부은 느낌을 상쇄시킬 수 있습니다. 저자극성이며 양질의 제품을 선택하고 마스카라를 제거할 때는 부드럽게 적절한 제품을 사용하세요.\n",
      "\n",
      "이러한 방법들을 통해 얼굴 붓기를 줄일 수 있습니다. 하지만 만약 얼굴 붓기가 지속되거나 심각한 부기가 발생한다면 의사와 상담하는 것이 좋습니다.\n"
     ]
    }
   ],
   "source": [
    "messages = []\n",
    "while True:\n",
    "    user_content = input(\"user : \")\n",
    "    messages.append({\"role\": \"user\", \"content\": f\"{user_content}\"})\n",
    "\n",
    "    completion = openai.ChatCompletion.create(model=\"gpt-3.5-turbo\", messages=messages)\n",
    "\n",
    "    assistant_content = completion.choices[0].message[\"content\"].strip()\n",
    "\n",
    "    messages.append({\"role\": \"assistant\", \"content\": f\"{assistant_content}\"})\n",
    "\n",
    "    print(f\"GPT : {assistant_content}\")"
   ]
  }
 ],
 "metadata": {
  "kernelspec": {
   "display_name": "Python 3 (ipykernel)",
   "language": "python",
   "name": "python3"
  },
  "language_info": {
   "codemirror_mode": {
    "name": "ipython",
    "version": 3
   },
   "file_extension": ".py",
   "mimetype": "text/x-python",
   "name": "python",
   "nbconvert_exporter": "python",
   "pygments_lexer": "ipython3",
   "version": "3.9.7"
  }
 },
 "nbformat": 4,
 "nbformat_minor": 5
}
