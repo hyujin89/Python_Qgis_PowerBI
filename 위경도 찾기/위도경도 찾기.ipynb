{
 "cells": [
  {
   "cell_type": "code",
   "execution_count": 1,
   "id": "785d22d3",
   "metadata": {},
   "outputs": [],
   "source": [
    "import requests\n",
    "import json\n",
    "import pandas as pd\n",
    "from tqdm import tqdm\n",
    "import time"
   ]
  },
  {
   "cell_type": "code",
   "execution_count": 2,
   "id": "241e81ee",
   "metadata": {},
   "outputs": [],
   "source": [
    "url = \"https://dapi.kakao.com/v2/local/search/address.json\"\n",
    "      \n",
    "apikey = \"개인거 넣으세요\"\n",
    "header = {\"authorization\": \"개인 api키 받으세요\"}"
   ]
  },
  {
   "cell_type": "code",
   "execution_count": 3,
   "id": "380e088a",
   "metadata": {},
   "outputs": [
    {
     "data": {
      "text/html": [
       "<div>\n",
       "<style scoped>\n",
       "    .dataframe tbody tr th:only-of-type {\n",
       "        vertical-align: middle;\n",
       "    }\n",
       "\n",
       "    .dataframe tbody tr th {\n",
       "        vertical-align: top;\n",
       "    }\n",
       "\n",
       "    .dataframe thead th {\n",
       "        text-align: right;\n",
       "    }\n",
       "</style>\n",
       "<table border=\"1\" class=\"dataframe\">\n",
       "  <thead>\n",
       "    <tr style=\"text-align: right;\">\n",
       "      <th></th>\n",
       "      <th>점포명</th>\n",
       "      <th>주소</th>\n",
       "      <th>쇼핑시간</th>\n",
       "      <th>휴점일</th>\n",
       "      <th>고객센터</th>\n",
       "      <th>주차시설</th>\n",
       "    </tr>\n",
       "  </thead>\n",
       "  <tbody>\n",
       "    <tr>\n",
       "      <th>0</th>\n",
       "      <td>전주송천</td>\n",
       "      <td>전라북도 전주시 덕진구 송천동2가 175-59</td>\n",
       "      <td>NaN</td>\n",
       "      <td>NaN</td>\n",
       "      <td>NaN</td>\n",
       "      <td>NaN</td>\n",
       "    </tr>\n",
       "  </tbody>\n",
       "</table>\n",
       "</div>"
      ],
      "text/plain": [
       "    점포명                         주소  쇼핑시간  휴점일  고객센터  주차시설\n",
       "0  전주송천  전라북도 전주시 덕진구 송천동2가 175-59   NaN  NaN   NaN   NaN"
      ]
     },
     "execution_count": 3,
     "metadata": {},
     "output_type": "execute_result"
    }
   ],
   "source": [
    "excelDF = pd.read_excel(\"주소.xlsx\")\n",
    "excelDF"
   ]
  },
  {
   "cell_type": "code",
   "execution_count": 4,
   "id": "dcbebfa4",
   "metadata": {},
   "outputs": [
    {
     "data": {
      "text/plain": [
       "(1, 6)"
      ]
     },
     "execution_count": 4,
     "metadata": {},
     "output_type": "execute_result"
    }
   ],
   "source": [
    "excelDF.shape"
   ]
  },
  {
   "cell_type": "code",
   "execution_count": 5,
   "id": "83780132",
   "metadata": {},
   "outputs": [],
   "source": [
    "x=[]\n",
    "y=[]"
   ]
  },
  {
   "cell_type": "code",
   "execution_count": 6,
   "id": "09d1668c",
   "metadata": {},
   "outputs": [
    {
     "name": "stderr",
     "output_type": "stream",
     "text": [
      "100%|█████████████████████████████████████████████| 1/1 [00:00<00:00,  2.43it/s]\n"
     ]
    }
   ],
   "source": [
    "\n",
    "# for address in tqdm(addresses, desc=\"Extracting places\"):\n",
    "for i in tqdm(range(len(excelDF))):     #tqdm : for문 진행 상황 알 수 있음\n",
    "    address = excelDF[\"주소\"][i]\n",
    "    parameters = {\"query\": address}\n",
    "    response = requests.get(url, headers=header, params=parameters)\n",
    "    jsonResponse = json.loads(response.text)\n",
    "    time.sleep(0.1)\n",
    "    \n",
    "    try:\n",
    "        x.append(jsonResponse[\"documents\"][0]['address']['x'])\n",
    "        y.append(jsonResponse[\"documents\"][0]['address']['y'])\n",
    "    except:\n",
    "        x.append(\"\")\n",
    "        y.append(\"\")\n",
    "# return x.append(jsonResponse[\"documents\"][0]['address']['x']), y.append(jsonResponse[\"documents\"][0]['address']['y'])"
   ]
  },
  {
   "cell_type": "code",
   "execution_count": 7,
   "id": "d142e121",
   "metadata": {},
   "outputs": [],
   "source": [
    "excelDF[\"x\"] = x\n",
    "excelDF[\"y\"] = y"
   ]
  },
  {
   "cell_type": "code",
   "execution_count": 8,
   "id": "01a15f7c",
   "metadata": {},
   "outputs": [],
   "source": [
    "excelDF.to_excel(\"완료.xlsx\")       #엑셀에 입력"
   ]
  }
 ],
 "metadata": {
  "kernelspec": {
   "display_name": "Python 3 (ipykernel)",
   "language": "python",
   "name": "python3"
  },
  "language_info": {
   "codemirror_mode": {
    "name": "ipython",
    "version": 3
   },
   "file_extension": ".py",
   "mimetype": "text/x-python",
   "name": "python",
   "nbconvert_exporter": "python",
   "pygments_lexer": "ipython3",
   "version": "3.9.7"
  }
 },
 "nbformat": 4,
 "nbformat_minor": 5
}
